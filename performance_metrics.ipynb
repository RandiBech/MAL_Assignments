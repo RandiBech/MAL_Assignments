{
 "cells": [
  {
   "cell_type": "markdown",
   "metadata": {},
   "source": [
    "# ITMAL Exercise\n",
    "\n",
    "\n",
    "## Performance Metrics\n",
    "\n",
    "There are a number of frequently uses metrics in ML, namely accuracy, precision, recall and the $F_1$ score. All are called _metrics_ (though they are not true norms, like ${\\cal L}_2$ or ${\\cal L}_1$ we saw last time).\n",
    "\n",
    "Maybe performance _score_ would be a better name than performance metric, at least for the accuracy, precision, recall we will be looking at---emphasising the conceptual distinction between the  _score-function_ and _cost(/loss/error/objective)-function_ (the later is typically a true distance/norm function).  \n",
    "\n",
    "You can find a lot of details on say precision and recall in Wikipedia\n",
    "\n",
    ">  https://en.wikipedia.org/wiki/Precision_and_recall\n",
    "\n",
    "\n",
    "### Nomenclature\n",
    "\n",
    "| NAME | SYMBOL | ALIAS |\n",
    "| :---: | :---: | :---: |\n",
    "|true positives | $TP$ | |\n",
    "|true negatives | $TN$ | |\n",
    "|false positives| $FP$ | type I error| \n",
    "|false negatives| $FN$ | type II error |\n",
    "\n",
    "and $N = N_P + N_N$ being the total number of samples and the number of positive and negative samples\n",
    "respectively.\n",
    "\n",
    "### Precision\n",
    "\n",
    "$$\n",
    "\\def\\by{\\mathbf{y}}\n",
    "\\def\\ba{\\begin{array}{lll}}\n",
    "\\def\\ea{\\end{array}}\n",
    "\\newcommand{\\rem}[1]{}\n",
    "\\newcommand\\st[1]{_{\\scriptsize #1}}\n",
    "\\newcommand\\myfrac[2]{\\frac{#1\\rule{0pt}{8pt}}{#2\\rule{0pt}{8pt}}} \n",
    "\\ba\n",
    " p &= \\myfrac{TP}{TP + FP}\n",
    "\\ea\n",
    "$$\n",
    "\n",
    "### Recall or Sensitivity\n",
    "\n",
    "$$\n",
    "  \\ba\n",
    "    r &= \\myfrac{TP}{TP + FN}\\\\\n",
    "      &= \\myfrac{TP}{N_P}\n",
    "  \\ea\n",
    "$$\n",
    "\n",
    "### Accuracy\n",
    "\n",
    "$$\n",
    "  \\ba\n",
    "      a &= \\myfrac{TP + TN}{TP + TN + FP + FN}\\\\\n",
    "        &= \\myfrac{TP + TN}{N}\\\\\n",
    "        &= \\myfrac{TP + TN}{N_P~~ + N_N} \n",
    "  \\ea\n",
    "$$\n",
    "\n",
    "#### Accuracy Paradox\n",
    "\n",
    "A static constant model, say $p\\st{cancer}=0$ may have higher accuracy than a real model with predictive power. This is odd!\n",
    "\n",
    "Asymmetric weights could also be associated with the false positive and false negative predictions, yielding either FP of FN much more expensive than the other. Say, it is more expensive not to treat a person with cancer, than treating a person without cancer. \n",
    "\n",
    "### F-score\n",
    "\n",
    "General $\\beta$-harmonic mean of the precision and recall \n",
    "$$\n",
    "    F_\\beta = (1+\\beta^2) \\myfrac{pr}{\\beta^2 p+r}\\\\\n",
    "$$ \n",
    "that for say $\\beta=2$ or $\\beta=0.5$ shifts or skews the emphasis on the two variables in the equation. Normally only the $\\beta=1$ harmonic mean is used\n",
    "\n",
    "$$\n",
    "  \\ba\n",
    "    F_1 &= \\myfrac{2pr}{p+r}\\\\\n",
    "        &= \\myfrac{2}{1/p + 1/r}\n",
    "  \\ea\n",
    "$$\n",
    "with $F$ typically being synonymous with $F_1$. \n",
    "\n",
    "If needed, find more info on Wikipedia\n",
    "\n",
    "> https://en.wikipedia.org/wiki/F1_score\n",
    "\n",
    "\n",
    "## Confusion Matrix\n",
    "\n",
    "For statistical classification, the confusion matrix or error matrix (or\n",
    "matching matrix in unsupervised learning) is for a two-class problem given by\n",
    "the $2\\times2$ matrix with dimensions 'actual' and 'predicted'\n",
    "\n",
    "$$   \n",
    "{\\bf M}\\st{confusion} = \n",
    "\\begin{array}{l|ll}\n",
    "                           & \\mbox{actual true} & \\mbox{actual false} \\\\ \\hline\n",
    "    \\mbox{predicted true}  & TP & FP \\\\     \n",
    "    \\mbox{predicted false} & FN & TN \n",
    "\\end{array}\n",
    "$$\n",
    "\n",
    "The diagonal, in the square matrix, represent predicted values being the same\n",
    "as the actual values, off-diagonal elements represent erroneous prediction.\n",
    "\n",
    "Also notice, that the layout of this matrix is different of what is given in [HOML], \"Confusion Matrix\", p.92/fig 3-2. This is just a minor issue, since we can always flip/rotate/transpose the matrix (say by flipping the $\\by\\st{true}$ and $\\by\\st{pred}$ arguments). \n",
    "\n",
    "For N-class classification the matrix gives a matrix with $N$ actual\n",
    "classes and $N$ predicted classes\n",
    "\n",
    "$$\n",
    "{\\bf M}\\st{confusion}~~~ =\n",
    "  \\left[\n",
    "  \\begin{array}{llll}\n",
    "       c_{11} & c_{12} & \\cdots & c_{1n} \\\\ \n",
    "       c_{21} & c_{22} & \\cdots & c_{2n} \\\\\n",
    "       \\vdots & \\vdots & \\ddots & \\vdots \\\\\n",
    "       c_{n1} & c_{n2} & \\cdots & c_{nn} \\\\ \n",
    "  \\end{array}\n",
    "  \\right]\n",
    "$$\n",
    "with say element $c_{21}$ being the number of actual classes '1' being predicted (erroneously) as class '2'.\n",
    "\n",
    "### Nomenclature for the Confusion Matrix\n",
    "\n",
    "The naming of the elements in the confusion matrix can be rather exotic, like _false omission rate_ (see the figure below), but we won't get to such detail here...let us stick with TP, TN, FP, FN and $F_1$!\n",
    "\n",
    "<img src=\"https://blackboard.au.dk/bbcswebdav/courses/BB-Cou-UUVA-94506/Fildeling/L02/Figs/performance_metrics.jpg\" alt=\"WARNING: you need to be logged into Blackboard to view images\" style=\"width:900px\">\n",
    "\n",
    "If you need more info on the confusion matrix:\n",
    "\n",
    ">  https://en.wikipedia.org/wiki/Confusion_matrix\n",
    "\n",
    "#### Qa Implement the Accuracy function and test it on the MNIST data.\n",
    "\n",
    "We now follow the convention in Scikit-learn, that a score funtion takes the arguments `y_true` and then `y_pred`\n",
    "\n",
    "```\n",
    "    sklearn.metrics.accuracy_score(y_true, y_pred, ..)\n",
    "```\n",
    "\n",
    "Implement a general accuracy function `MyAccuracy(y_true, y_pred)`. Again, implement the function you self from scratch, i.e. do not use any helper functions from Scikit-learn (implementing via `sklearn.metrics.confusion_matrix` is also not allowed, othewise you will then learn nothing!)\n",
    "\n",
    "Reuse your MNIST data loader and test the `MyAccuracy` function  both on your dummy classifier and on the Stochastic Gradient Descent classifier (with setup parameters as in [HOML]).\n",
    "\n",
    "Compare your accuracy score with the acutal value from `sklearn.metrics.accuracy_score()`.\n",
    "\n",
    "(Implementation note: what do you do, if the denominator is zero?)"
   ]
  },
  {
   "cell_type": "code",
   "execution_count": 5,
   "metadata": {},
   "outputs": [],
   "source": [
    "# TODO: Qa...\n",
    "#Reusing MNIST loader:\n",
    "from sklearn.datasets import fetch_openml\n",
    "from sklearn.base import BaseEstimator\n",
    "def MNIST_GetDataSet():\n",
    "    X, y = fetch_openml('mnist_784', return_X_y = True)\n",
    "    X = X / 255.\n",
    "    return (X,y)\n",
    "X, y = MNIST_GetDataSet()"
   ]
  },
  {
   "cell_type": "code",
   "execution_count": 110,
   "metadata": {},
   "outputs": [
    {
     "name": "stdout",
     "output_type": "stream",
     "text": [
      "[[False]\n",
      " [False]\n",
      " [False]\n",
      " ...\n",
      " [False]\n",
      " [False]\n",
      " [False]]\n",
      "[False False False ... False  True False]\n"
     ]
    }
   ],
   "source": [
    "#reused code from dummy\n",
    "import numpy as np\n",
    "class DummyClassifier(BaseEstimator):\n",
    "    def fit(self, X, y=None):\n",
    "        return self\n",
    "    def predict(self, X):\n",
    "        return np.zeros((len(X), 1), dtype=bool)\n",
    "\n",
    "X_train, X_test, y_train, y_test = X[:60000], X[60000:], y[:60000], y[60000:]\n",
    "y_true  = (y_test == '5') #kaldt y_test_5 i dummy opg\n",
    "y_train_5 = (y_train == '5')\n",
    "dummyObj = DummyClassifier()    \n",
    "dummyObj.fit(X_train, y_train_5)\n",
    "y_pred = dummyObj.predict(X_test)\n",
    "print(y_pred)\n",
    "print(y_true)"
   ]
  },
  {
   "cell_type": "code",
   "execution_count": 89,
   "metadata": {},
   "outputs": [
    {
     "name": "stdout",
     "output_type": "stream",
     "text": [
      "\n",
      "my a          =0.9108\n",
      "scikit-learn a=0.9108\n"
     ]
    }
   ],
   "source": [
    "def MyAccuracy(y_true, y_pred):\n",
    "    # TODO: you impl here\n",
    "    assert len(y_true) != 0, \"Lenght of y_true is zero - zero-division error!\"\n",
    "    matched = 0\n",
    "    for y_p,y_t in zip(y_pred, y_true):\n",
    "        if y_t in y_p:\n",
    "            matched += 1\n",
    "    \n",
    "    return (matched / len(y_true))     \n",
    "        \n",
    "\n",
    "from sklearn.metrics import accuracy_score, recall_score, precision_score\n",
    "# TEST FUNCTION: example of a comperator, using Scikit-learn accuracy_score\n",
    "def TestAccuracy(y_true, y_pred):\n",
    "    a0=MyAccuracy(y_true, y_pred)\n",
    "    a1=accuracy_score(y_true, y_pred)\n",
    "\n",
    "    print(f\"\\nmy a          ={a0}\")\n",
    "    print(f\"scikit-learn a={a1}\")\n",
    "\n",
    "    # do some numerical comparison here, like\n",
    "    eps=1E-9\n",
    "    assert np.fabs(a0-a1)<eps, \"The accuracy score from MyAccuracy is different from sklearn.metrics.acurracy_score\"\n",
    "    \n",
    "TestAccuracy(y_true, y_pred)\n"
   ]
  },
  {
   "cell_type": "markdown",
   "metadata": {},
   "source": [
    "#### Qb Implement Precision, Recall and $F_1$-score and test it on the MNIST data for both the SGD and Dummy classifier models\n",
    "\n",
    "Now, implement the `MyPrecision`, `MyRecall` and `MyF1Score` functions, again taking MNIST as input, using the SGD and the Dummy classifiers and make some test vectors to compare to the functions found in Scikit-learn...\n",
    "\n",
    "(Implementation note: as before, what do you do, if the denominator is zero?)"
   ]
  },
  {
   "cell_type": "code",
   "execution_count": 93,
   "metadata": {},
   "outputs": [
    {
     "name": "stdout",
     "output_type": "stream",
     "text": [
      "0.0\n"
     ]
    }
   ],
   "source": [
    "# TODO: Qb..\n",
    "\n",
    "def MyPrecision(y_true, y_pred):\n",
    "    # TODO: you impl here\n",
    "    \n",
    "    truePositive = 0.0\n",
    "    falsePositive = 0.0\n",
    "    for y_p,y_t in zip(y_pred, y_true):\n",
    "        if y_t == True & y_p == True:\n",
    "            truePositive += 1.0\n",
    "        if y_t == False & y_p == True:\n",
    "            matchedNegative += 1.0\n",
    "    if (truePositive + falsePositive) == 0.0:\n",
    "        return 0.0   \n",
    "    return (truePositive / (truePositive + falsePositive))   \n",
    "\n",
    "def MyRecall(y_true, y_pred):\n",
    "    # TODO: you impl here\n",
    "    truePositive = 0.0\n",
    "    falseNegative = 0.0\n",
    "    for y_p,y_t in zip(y_pred, y_true):\n",
    "        if y_t == True & y_p == True:\n",
    "            truePositive += 1.0\n",
    "        if y_t == True & y_p == False:\n",
    "            falseNegative += 1.0\n",
    "    if (truePositive + falseNegative) == 0.0:\n",
    "        return 0.0\n",
    "    return (truePositive / (truePositive + falseNegative))\n",
    "    \n",
    "def MyF1Score(y_true, y_pred):\n",
    "    # TODO: you impl here\n",
    "    p = MyPrecision(y_true, y_pred)\n",
    "    r = MyRecall(y_true, y_pred)\n",
    "    if (p + r) == 0.0:\n",
    "        return 0.0\n",
    "    return ((2*p*r) / (p + r))\n",
    "    \n",
    "score = MyF1Score(y_true, y_pred) \n",
    "print(score)"
   ]
  },
  {
   "cell_type": "code",
   "execution_count": 94,
   "metadata": {},
   "outputs": [
    {
     "name": "stdout",
     "output_type": "stream",
     "text": [
      "Dummy classifier test results:\n",
      "MyPrecision \t\t = 0.0\n",
      "sklearn precision \t = 0.0\n",
      "MyRecall \t\t = 0.0\n",
      "sklearn Recall \t\t = 0.0\n",
      "MyF1Score \t\t = 0.0\n",
      "sklean F1 \t\t = 0.0\n"
     ]
    },
    {
     "name": "stderr",
     "output_type": "stream",
     "text": [
      "C:\\Users\\randi\\anaconda3\\lib\\site-packages\\sklearn\\metrics\\_classification.py:1221: UndefinedMetricWarning: Precision is ill-defined and being set to 0.0 due to no predicted samples. Use `zero_division` parameter to control this behavior.\n",
      "  _warn_prf(average, modifier, msg_start, len(result))\n"
     ]
    },
    {
     "name": "stdout",
     "output_type": "stream",
     "text": [
      "SGD classifier test results:\n",
      "MyPrecision \t\t = 1.0\n",
      "sklearn precision \t = 0.9460188933873145\n",
      "MyRecall \t\t = 0.07175760057324189\n",
      "sklearn Recall \t\t = 0.7858744394618834\n",
      "MyF1Score \t\t = 0.13390639923591213\n",
      "sklean F1 \t\t = 0.8585425597060625\n"
     ]
    }
   ],
   "source": [
    "# TODO: your test code here!\n",
    "print(\"Dummy classifier test results:\")\n",
    "print(f\"MyPrecision \\t\\t = {MyPrecision(y_true, y_pred)}\")\n",
    "from sklearn.metrics import precision_score\n",
    "print(f\"sklearn precision \\t = {precision_score(y_true, y_pred)}\")\n",
    "\n",
    "print(f\"MyRecall \\t\\t = {MyRecall(y_true, y_pred)}\")\n",
    "from sklearn.metrics import recall_score\n",
    "print(f\"sklearn Recall \\t\\t = {recall_score(y_true, y_pred)}\")\n",
    "\n",
    "print(f\"MyF1Score \\t\\t = {MyF1Score(y_true, y_pred)}\")\n",
    "from sklearn.metrics import f1_score\n",
    "print(f\"sklean F1 \\t\\t = {f1_score(y_true, y_pred)}\")\n",
    "\n",
    "\n",
    "# SGD classifier:\n",
    "from sklearn.linear_model import SGDClassifier \n",
    "sgd_clf = SGDClassifier(random_state=42)\n",
    "sgd_clf.fit(X_train, y_train_5)\n",
    "y_pred_sgd = sgd_clf.predict(X_test)\n",
    "\n",
    "print(\"SGD classifier test results:\")\n",
    "print(f\"MyPrecision \\t\\t = {MyPrecision(y_true, y_pred_sgd)}\")\n",
    "from sklearn.metrics import precision_score\n",
    "print(f\"sklearn precision \\t = {precision_score(y_true, y_pred_sgd)}\")\n",
    "\n",
    "print(f\"MyRecall \\t\\t = {MyRecall(y_true, y_pred_sgd)}\")\n",
    "from sklearn.metrics import recall_score\n",
    "print(f\"sklearn Recall \\t\\t = {recall_score(y_true, y_pred_sgd)}\")\n",
    "\n",
    "print(f\"MyF1Score \\t\\t = {MyF1Score(y_true, y_pred_sgd)}\")\n",
    "from sklearn.metrics import f1_score\n",
    "print(f\"sklean F1 \\t\\t = {f1_score(y_true, y_pred_sgd)}\")"
   ]
  },
  {
   "cell_type": "markdown",
   "metadata": {},
   "source": [
    "#### Qc The Confusion Matrix\n",
    "\n",
    "Revisit your solution to Qb in the `dummy_classifier.ipynb`. Generate the confusion matrix for both the Dummy and the SGD classifier using the `scklearn.metrics.confusion_matrix` function. \n",
    "\n",
    "I got the two confusion matrices\n",
    "\n",
    "```\n",
    "M_dummy=[[18166     0]\n",
    "        [ 1834     0]]\n",
    "   \n",
    "M_SDG=[[17618   548]\n",
    "      [  267  1567]]\n",
    "\n",
    "```\n",
    "your data may look similar (but not 100% equal).\n",
    "\n",
    "How are the Scikit-learn confusion matrix organized, where are the TP, FP, FN and TN located in the matrix indices, and what happens if you mess up the parameters calling\n",
    "\n",
    "```python\n",
    "confusion_matrix(y_train_pred, y_train_5)\n",
    "```\n",
    "\n",
    "instead of \n",
    "```python\n",
    "confusion_matrix(y_train_5, y_train_pred)\n",
    "```"
   ]
  },
  {
   "cell_type": "code",
   "execution_count": 126,
   "metadata": {},
   "outputs": [
    {
     "name": "stdout",
     "output_type": "stream",
     "text": [
      "confusion_matrix(y_train_5, y_train_pred):\n",
      "M_dummy:\n",
      " [[54579     0]\n",
      " [ 5421     0]]\n",
      "\n",
      "M_SGD:\n",
      " [[54305   274]\n",
      " [ 1183  4238]]\n",
      "\n",
      "Reverse parameters:\n",
      "M_dummy_reverse:\n",
      " [[54579  5421]\n",
      " [    0     0]]\n",
      "\n",
      "M_SGD_reverse:\n",
      " [[54305  1183]\n",
      " [  274  4238]]\n"
     ]
    }
   ],
   "source": [
    "# TODO: Qc\n",
    "from sklearn.metrics import confusion_matrix\n",
    "\n",
    "y_train_pred = dummyObj.predict(X_train)\n",
    "y_train_pred_sgd = sgd_clf.predict(X_train)\n",
    "\n",
    "print(\"confusion_matrix(y_train_5, y_train_pred):\")\n",
    "M_dummy = confusion_matrix(y_train_5, y_train_pred)\n",
    "print(\"M_dummy:\\n\", M_dummy)\n",
    "M_SGD = confusion_matrix(y_train_5, y_train_pred_sgd)\n",
    "print(\"\\nM_SGD:\\n\", M_SGD)\n",
    "\n",
    "print(\"\\nReverse parameters:\")\n",
    "M_dummy_reverse = confusion_matrix(y_train_pred, y_train_5)\n",
    "print(\"M_dummy_reverse:\\n\", M_dummy_reverse)\n",
    "M_SGD_reverse = confusion_matrix(y_train_pred_sgd, y_train_5)\n",
    "print(\"\\nM_SGD_reverse:\\n\", M_SGD_reverse)\n",
    "\n",
    "\n",
    "# FN and FP switches when using reverse parameters\n"
   ]
  },
  {
   "cell_type": "markdown",
   "metadata": {},
   "source": [
    "#### Qd A Confusion Matrix Heat-map\n",
    "\n",
    "Generate a _heat map_ image for the confusion matrices, `M_dummy` and `M_SGD` respectively, getting inspiration from [HOML] \"Error Analysis\", pp.102-105.\n",
    "\n",
    "This heat map could be an important guide for you when analysing multiclass data in the future."
   ]
  },
  {
   "cell_type": "code",
   "execution_count": 129,
   "metadata": {},
   "outputs": [
    {
     "data": {
      "image/png": "[encoded data removed]",
      "text/plain": [
       "<Figure size 288x288 with 1 Axes>"
      ]
     },
     "metadata": {
      "needs_background": "light"
     },
     "output_type": "display_data"
    },
    {
     "data": {
      "image/png": "[encoded data removed]",
      "text/plain": [
       "<Figure size 288x288 with 1 Axes>"
      ]
     },
     "metadata": {
      "needs_background": "light"
     },
     "output_type": "display_data"
    }
   ],
   "source": [
    "# TODO: Qd\n",
    "import matplotlib\n",
    "import matplotlib.pyplot as plt\n",
    "plt.matshow(M_dummy, cmap=plt.cm.gray)\n",
    "plt.show()\n",
    "\n",
    "plt.matshow(M_SGD, cmap=plt.cm.gray)\n",
    "plt.show()\n",
    "\n",
    "# Here we see there are less errors in M_SGD. This is apparent by the diagonal white/grey colors.\n",
    "# The more white the colors of the boxes are, the more guesses are made on this assumption. \n",
    "# So in the M_dummy the most guesses has been on true-positive, secondly on false-negative and zero guesses on false-positive and true-negative.\n",
    "# And in the M_SGD the most guesses has been on true-positive, secondly on true-negative and some guesses on false-positive and false-negative."
   ]
  },
  {
   "cell_type": "markdown",
   "metadata": {},
   "source": [
    "### Qe Conclusion\n",
    "\n",
    "Now, conclude on all the exercise above. \n",
    "\n",
    "Write a short textual conclusion (max. 10- to 20-lines) that extract the _essence_ of the exercises: why did you think it was important to look at these particular ML concepts, and what was our overall learning outcome of the exercises (in broad terms)."
   ]
  },
  {
   "cell_type": "markdown",
   "metadata": {},
   "source": [
    "#### Conclusion\n",
    "\n",
    "- understood nomenclature; TN, TP, FP, FN\n",
    "- learned how to calculate accruray, precision, recall, F1_score (also F_score)\n",
    "- how to make a confusion matrix\n",
    "- analysing confusion matrix; what happens if reverse parameters, error analysis (heat map)\n"
   ]
  },
  {
   "cell_type": "markdown",
   "metadata": {},
   "source": [
    "REVISIONS||\n",
    "---------||\n",
    "2018-1219| CEF, initial.                  \n",
    "2018-0207| CEF, updated.           \n",
    "2018-0207| CEF, rewritten accuracy paradox section. \n",
    "2018-0305| CEF, updated with SHN comments.\n",
    "2019-0901| CEF, updated for ITMAL v2.\n",
    "2019-0904| CEF, updated for print-f and added conclusion Q.\n",
    "2020-0125| CEF, F20 ITMAL update.\n",
    "2020-0203| CEF, minor text fixes.\n",
    "2020-0204| CEF, updated page numbers to HOMLv2.\n",
    "2020-0217| CEF, added implementation note on denominator=0.\n",
    "2020-0903| CEF, E20 ITMAL update, udpated figs paths.\n",
    "2020-0906| CEF, added alt text.\n",
    "2020-0907| CEF, updated HOML page refs.\n",
    "2020-0921| CEF, fixed factor 2 error in beta-harmonic.\n",
    "2021-0112| CEF, F21 ITMAL update, moved revision tabel."
   ]
  }
 ],
 "metadata": {
  "kernelspec": {
   "display_name": "Python 3",
   "language": "python",
   "name": "python3"
  },
  "language_info": {
   "codemirror_mode": {
    "name": "ipython",
    "version": 3
   },
   "file_extension": ".py",
   "mimetype": "text/x-python",
   "name": "python",
   "nbconvert_exporter": "python",
   "pygments_lexer": "ipython3",
   "version": "3.8.5"
  },
  "varInspector": {
   "cols": {
    "lenName": 16,
    "lenType": 16,
    "lenVar": 40
   },
   "kernels_config": {
    "python": {
     "delete_cmd_postfix": "",
     "delete_cmd_prefix": "del ",
     "library": "var_list.py",
     "varRefreshCmd": "print(var_dic_list())"
    },
    "r": {
     "delete_cmd_postfix": ") ",
     "delete_cmd_prefix": "rm(",
     "library": "var_list.r",
     "varRefreshCmd": "cat(var_dic_list()) "
    }
   },
   "types_to_exclude": [
    "module",
    "function",
    "builtin_function_or_method",
    "instance",
    "_Feature"
   ],
   "window_display": false
  }
 },
 "nbformat": 4,
 "nbformat_minor": 2
}
