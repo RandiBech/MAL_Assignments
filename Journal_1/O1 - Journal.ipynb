{
 "cells": [
  {
   "cell_type": "markdown",
   "metadata": {},
   "source": [
    "# Journal - O1\n",
    "### ITMAL - Machine Learning\n",
    "#### Aarhus Universitet\n",
    "#### Dato: 28-02-2021\n",
    "### Lecture L01, L02 and L03\n",
    "#### Group 36: \n",
    "- Alexander Smith Mølholm 201806566 \n",
    "- Randi Mikkelsen Bech 201805690"
   ]
  },
  {
   "cell_type": "markdown",
   "metadata": {},
   "source": [
    "## Introuction\n",
    "To DO: Write intro for the whole journal"
   ]
  },
  {
   "cell_type": "markdown",
   "metadata": {
    "tags": [
     "L01-intro"
    ]
   },
   "source": [
    "## L01 - intro\n",
    "In this task we will look at different models; Linear regression, k-Nearest Neighboor and Multi-Layer Perceptron for regression. We will look at the individual models and analyze across the models.\n",
    "\n",
    "We startup by reusing parts of `01_the_machine_learning_landscape.ipynb` from Géron [GITHOML]\n",
    "Here we for example make sure this notebook works well in both python 2 and 3 and merge the OECD's life satisfaction data and the IMF's GDP per capita data. Then the data is plottet and we create a model called LinearRegression and train the model. After this we extract a predicted $\\mathbf{y}_{pred}~$ from the model, for some input scalar `x=22587`. The results from the linear regression is also plottet.\n"
   ]
  },
  {
   "cell_type": "markdown",
   "metadata": {
    "tags": [
     "hide-input"
    ]
   },
   "source": [
    "#### Setup\n",
    "Below is code from section \"Setup\""
   ]
  },
  {
   "cell_type": "code",
   "execution_count": 70,
   "metadata": {
    "tags": [
     "hide-input"
    ]
   },
   "outputs": [
    {
     "name": "stdout",
     "output_type": "stream",
     "text": [
      "OK\n"
     ]
    }
   ],
   "source": [
    "# To support both python 2 and python 3\n",
    "from __future__ import division, print_function, unicode_literals\n",
    "\n",
    "# Common imports\n",
    "import numpy as np\n",
    "import os\n",
    "\n",
    "# to make this notebook's output stable across runs\n",
    "np.random.seed(42)\n",
    "\n",
    "# To plot pretty figures\n",
    "%matplotlib inline\n",
    "import matplotlib\n",
    "import matplotlib.pyplot as plt\n",
    "plt.rcParams['axes.labelsize'] = 14\n",
    "plt.rcParams['xtick.labelsize'] = 12\n",
    "plt.rcParams['ytick.labelsize'] = 12\n",
    "\n",
    "# Where to save the figures\n",
    "PROJECT_ROOT_DIR = \".\"\n",
    "CHAPTER_ID = \"fundamentals\"\n",
    "\n",
    "def save_fig(fig_id, tight_layout=True):\n",
    "    path = os.path.join(PROJECT_ROOT_DIR, \"images\", CHAPTER_ID, fig_id + \".png\")\n",
    "    print(\"IGNORING: Saving figure\", fig_id) # ITMAL: I've disabled saving of figures\n",
    "    #if tight_layout:\n",
    "    #    plt.tight_layout()\n",
    "    #plt.savefig(path, format='png', dpi=300)\n",
    "\n",
    "# Ignore useless warnings (see SciPy issue #5998)\n",
    "import warnings\n",
    "warnings.filterwarnings(action=\"ignore\", module=\"scipy\", message=\"^internal gelsd\")\n",
    "\n",
    "print(\"OK\")"
   ]
  },
  {
   "cell_type": "markdown",
   "metadata": {
    "tags": [
     "hide-input"
    ]
   },
   "source": [
    "#### Code example 1-1\n",
    "Below is code from section \"Code example 1-1\""
   ]
  },
  {
   "cell_type": "code",
   "execution_count": 71,
   "metadata": {
    "tags": [
     "hide-input"
    ]
   },
   "outputs": [
    {
     "data": {
      "image/png": "[encoded data removed]",
      "text/plain": [
       "<Figure size 432x288 with 1 Axes>"
      ]
     },
     "metadata": {
      "needs_background": "light"
     },
     "output_type": "display_data"
    },
    {
     "name": "stdout",
     "output_type": "stream",
     "text": [
      "[[5.96242338]]\n"
     ]
    }
   ],
   "source": [
    "def prepare_country_stats(oecd_bli, gdp_per_capita):\n",
    "    oecd_bli = oecd_bli[oecd_bli[\"INEQUALITY\"]==\"TOT\"]\n",
    "    oecd_bli = oecd_bli.pivot(index=\"Country\", columns=\"Indicator\", values=\"Value\")\n",
    "    gdp_per_capita.rename(columns={\"2015\": \"GDP per capita\"}, inplace=True)\n",
    "    gdp_per_capita.set_index(\"Country\", inplace=True)\n",
    "    full_country_stats = pd.merge(left=oecd_bli, right=gdp_per_capita,\n",
    "                                  left_index=True, right_index=True)\n",
    "    full_country_stats.sort_values(by=\"GDP per capita\", inplace=True)\n",
    "    remove_indices = [0, 1, 6, 8, 33, 34, 35]\n",
    "    keep_indices = list(set(range(36)) - set(remove_indices))\n",
    "    return full_country_stats[[\"GDP per capita\", 'Life satisfaction']].iloc[keep_indices]\n",
    "\n",
    "import os\n",
    "datapath = os.path.join(\"../datasets\", \"lifesat\", \"\")\n",
    "\n",
    "# Code example\n",
    "import matplotlib\n",
    "import matplotlib.pyplot as plt\n",
    "import numpy as np\n",
    "import pandas as pd\n",
    "import sklearn.linear_model\n",
    "\n",
    "# Load the data\n",
    "try:\n",
    "    oecd_bli = pd.read_csv(datapath + \"oecd_bli_2015.csv\", thousands=',')\n",
    "    gdp_per_capita = pd.read_csv(datapath + \"gdp_per_capita.csv\",thousands=',',delimiter='\\t',\n",
    "                             encoding='latin1', na_values=\"n/a\")\n",
    "except Exception as e:\n",
    "    print(f\"ITMAL NOTE: well, you need to have the 'datasets' dir in path, please unzip 'datasets.zip' and make sure that its included in the datapath='{datapath}' setting in the cell above..\")\n",
    "    raise e\n",
    "    \n",
    "# Prepare the data\n",
    "country_stats = prepare_country_stats(oecd_bli, gdp_per_capita)\n",
    "X = np.c_[country_stats[\"GDP per capita\"]]\n",
    "y = np.c_[country_stats[\"Life satisfaction\"]]\n",
    "\n",
    "# Visualize the data\n",
    "country_stats.plot(kind='scatter', x=\"GDP per capita\", y='Life satisfaction')\n",
    "plt.show()\n",
    "\n",
    "# Select a linear model\n",
    "model = sklearn.linear_model.LinearRegression()\n",
    "\n",
    "# Train the model\n",
    "model.fit(X, y)\n",
    "\n",
    "# Make a prediction for Cyprus\n",
    "X_new = [[22587]]  # Cyprus' GDP per capita\n",
    "y_pred = model.predict(X_new)\n",
    "print(y_pred) # outputs [[ 5.96242338]]"
   ]
  },
  {
   "cell_type": "markdown",
   "metadata": {
    "tags": [
     "hide-input"
    ]
   },
   "source": [
    "#### ITMAL\n",
    "Below is code from \"ITMAL\" section:"
   ]
  },
  {
   "cell_type": "code",
   "execution_count": 72,
   "metadata": {
    "tags": [
     "hide-input"
    ]
   },
   "outputs": [
    {
     "data": {
      "image/png": "[encoded data removed]",
      "text/plain": [
       "<Figure size 360x216 with 1 Axes>"
      ]
     },
     "metadata": {
      "needs_background": "light"
     },
     "output_type": "display_data"
    },
    {
     "data": {
      "image/png": "[encoded data removed]",
      "text/plain": [
       "<Figure size 360x216 with 1 Axes>"
      ]
     },
     "metadata": {
      "needs_background": "light"
     },
     "output_type": "display_data"
    }
   ],
   "source": [
    "oecd_bli = pd.read_csv(datapath + \"oecd_bli_2015.csv\", thousands=',')\n",
    "oecd_bli = oecd_bli[oecd_bli[\"INEQUALITY\"]==\"TOT\"]\n",
    "oecd_bli = oecd_bli.pivot(index=\"Country\", columns=\"Indicator\", values=\"Value\")\n",
    "#oecd_bli.head(2)\n",
    "\n",
    "gdp_per_capita = pd.read_csv(datapath+\"gdp_per_capita.csv\", thousands=',', delimiter='\\t',\n",
    "                             encoding='latin1', na_values=\"n/a\")\n",
    "gdp_per_capita.rename(columns={\"2015\": \"GDP per capita\"}, inplace=True)\n",
    "gdp_per_capita.set_index(\"Country\", inplace=True)\n",
    "#gdp_per_capita.head(2)\n",
    "\n",
    "full_country_stats = pd.merge(left=oecd_bli, right=gdp_per_capita, left_index=True, right_index=True)\n",
    "full_country_stats.sort_values(by=\"GDP per capita\", inplace=True)\n",
    "#full_country_stats\n",
    "\n",
    "remove_indices = [0, 1, 6, 8, 33, 34, 35]\n",
    "keep_indices = list(set(range(36)) - set(remove_indices))\n",
    "\n",
    "sample_data = full_country_stats[[\"GDP per capita\", 'Life satisfaction']].iloc[keep_indices]\n",
    "#missing_data = full_country_stats[[\"GDP per capita\", 'Life satisfaction']].iloc[remove_indices]\n",
    "\n",
    "sample_data.plot(kind='scatter', x=\"GDP per capita\", y='Life satisfaction', figsize=(5,3))\n",
    "plt.axis([0, 60000, 0, 10])\n",
    "position_text = {\n",
    "    \"Hungary\": (5000, 1),\n",
    "    \"Korea\": (18000, 1.7),\n",
    "    \"France\": (29000, 2.4),\n",
    "    \"Australia\": (40000, 3.0),\n",
    "    \"United States\": (52000, 3.8),\n",
    "}\n",
    "for country, pos_text in position_text.items():\n",
    "    pos_data_x, pos_data_y = sample_data.loc[country]\n",
    "    country = \"U.S.\" if country == \"United States\" else country\n",
    "    plt.annotate(country, xy=(pos_data_x, pos_data_y), xytext=pos_text,\n",
    "            arrowprops=dict(facecolor='black', width=0.5, shrink=0.1, headwidth=5))\n",
    "    plt.plot(pos_data_x, pos_data_y, \"ro\")\n",
    "#save_fig('money_happy_scatterplot')\n",
    "plt.show()\n",
    "\n",
    "from sklearn import linear_model\n",
    "lin1 = linear_model.LinearRegression()\n",
    "Xsample = np.c_[sample_data[\"GDP per capita\"]]\n",
    "ysample = np.c_[sample_data[\"Life satisfaction\"]]\n",
    "lin1.fit(Xsample, ysample)\n",
    "\n",
    "t0 = 4.8530528\n",
    "t1 = 4.91154459e-05\n",
    "\n",
    "sample_data.plot(kind='scatter', x=\"GDP per capita\", y='Life satisfaction', figsize=(5,3))\n",
    "plt.axis([0, 60000, 0, 10])\n",
    "M=np.linspace(0, 60000, 1000)\n",
    "plt.plot(M, t0 + t1*M, \"b\")\n",
    "plt.text(5000, 3.1, r\"$\\theta_0 = 4.85$\", fontsize=14, color=\"b\")\n",
    "plt.text(5000, 2.2, r\"$\\theta_1 = 4.91 \\times 10^{-5}$\", fontsize=14, color=\"b\")\n",
    "#save_fig('best_fit_model_plot')\n",
    "plt.show()"
   ]
  },
  {
   "cell_type": "markdown",
   "metadata": {
    "tags": [
     "L01-intro"
    ]
   },
   "source": [
    "### Qa) The $\\theta$ parameters and the $R^2$ Score\n",
    "In this task we extract the $\\theta_0$ and $\\theta_1$ coefficients from the life-satisfaction figure from the linear regressin model above. This is done via the models python attributes:"
   ]
  },
  {
   "cell_type": "code",
   "execution_count": 73,
   "metadata": {},
   "outputs": [
    {
     "name": "stdout",
     "output_type": "stream",
     "text": [
      "Theta_0 =  [4.8530528]\n",
      "Theta 1 =  [4.91154459e-05]\n"
     ]
    }
   ],
   "source": [
    "theta_0 = model.intercept_\n",
    "theta_1 = model.coef_[0]\n",
    "\n",
    "print(\"Theta_0 = \", theta_0)\n",
    "print(\"Theta 1 = \", theta_1)"
   ]
  },
  {
   "cell_type": "markdown",
   "metadata": {},
   "source": [
    "We also extract the $R^2~$ score for the model using data (X,y). \n",
    "The $R^2~$ score is a measurement of how well the model predicts the ground truth (measurement of fitness/goodness). The best score is 1.0 and the it can worsen into the negatives. Score is a fitness/goodness measurement\n",
    "\n",
    "The code for extracting the score is shown here within a print statement:"
   ]
  },
  {
   "cell_type": "code",
   "execution_count": 74,
   "metadata": {},
   "outputs": [
    {
     "name": "stdout",
     "output_type": "stream",
     "text": [
      "R^2 =  0.7344414355437029\n"
     ]
    }
   ],
   "source": [
    "print(\"R^2 = \", model.score(X,y))"
   ]
  },
  {
   "cell_type": "markdown",
   "metadata": {},
   "source": [
    "The result of the score is fine for this model. It is close to 1.0, which is what we want. This score we find acceptable for our model."
   ]
  },
  {
   "cell_type": "markdown",
   "metadata": {
    "tags": [
     "L01-intro"
    ]
   },
   "source": [
    "### Qb) Using k-Nearest Neighbors\n",
    "In this task we are changing the regression model to a model using `sklearn.neighbors.KNeighborsRegressor`. Here we start with the k parameter being the value of 3.\n",
    "\n",
    "This is the data given in the task:"
   ]
  },
  {
   "cell_type": "code",
   "execution_count": 75,
   "metadata": {},
   "outputs": [
    {
     "data": {
      "text/html": [
       "<div>\n",
       "<style scoped>\n",
       "    .dataframe tbody tr th:only-of-type {\n",
       "        vertical-align: middle;\n",
       "    }\n",
       "\n",
       "    .dataframe tbody tr th {\n",
       "        vertical-align: top;\n",
       "    }\n",
       "\n",
       "    .dataframe thead th {\n",
       "        text-align: right;\n",
       "    }\n",
       "</style>\n",
       "<table border=\"1\" class=\"dataframe\">\n",
       "  <thead>\n",
       "    <tr style=\"text-align: right;\">\n",
       "      <th></th>\n",
       "      <th>GDP per capita</th>\n",
       "      <th>Life satisfaction</th>\n",
       "    </tr>\n",
       "    <tr>\n",
       "      <th>Country</th>\n",
       "      <th></th>\n",
       "      <th></th>\n",
       "    </tr>\n",
       "  </thead>\n",
       "  <tbody>\n",
       "    <tr>\n",
       "      <th>Russia</th>\n",
       "      <td>9054.914</td>\n",
       "      <td>6.0</td>\n",
       "    </tr>\n",
       "    <tr>\n",
       "      <th>Turkey</th>\n",
       "      <td>9437.372</td>\n",
       "      <td>5.6</td>\n",
       "    </tr>\n",
       "    <tr>\n",
       "      <th>Hungary</th>\n",
       "      <td>12239.894</td>\n",
       "      <td>4.9</td>\n",
       "    </tr>\n",
       "    <tr>\n",
       "      <th>Poland</th>\n",
       "      <td>12495.334</td>\n",
       "      <td>5.8</td>\n",
       "    </tr>\n",
       "    <tr>\n",
       "      <th>Slovak Republic</th>\n",
       "      <td>15991.736</td>\n",
       "      <td>6.1</td>\n",
       "    </tr>\n",
       "    <tr>\n",
       "      <th>Estonia</th>\n",
       "      <td>17288.083</td>\n",
       "      <td>5.6</td>\n",
       "    </tr>\n",
       "    <tr>\n",
       "      <th>Greece</th>\n",
       "      <td>18064.288</td>\n",
       "      <td>4.8</td>\n",
       "    </tr>\n",
       "    <tr>\n",
       "      <th>Portugal</th>\n",
       "      <td>19121.592</td>\n",
       "      <td>5.1</td>\n",
       "    </tr>\n",
       "    <tr>\n",
       "      <th>Slovenia</th>\n",
       "      <td>20732.482</td>\n",
       "      <td>5.7</td>\n",
       "    </tr>\n",
       "    <tr>\n",
       "      <th>Spain</th>\n",
       "      <td>25864.721</td>\n",
       "      <td>6.5</td>\n",
       "    </tr>\n",
       "    <tr>\n",
       "      <th>Korea</th>\n",
       "      <td>27195.197</td>\n",
       "      <td>5.8</td>\n",
       "    </tr>\n",
       "    <tr>\n",
       "      <th>Italy</th>\n",
       "      <td>29866.581</td>\n",
       "      <td>6.0</td>\n",
       "    </tr>\n",
       "    <tr>\n",
       "      <th>Japan</th>\n",
       "      <td>32485.545</td>\n",
       "      <td>5.9</td>\n",
       "    </tr>\n",
       "    <tr>\n",
       "      <th>Israel</th>\n",
       "      <td>35343.336</td>\n",
       "      <td>7.4</td>\n",
       "    </tr>\n",
       "    <tr>\n",
       "      <th>New Zealand</th>\n",
       "      <td>37044.891</td>\n",
       "      <td>7.3</td>\n",
       "    </tr>\n",
       "    <tr>\n",
       "      <th>France</th>\n",
       "      <td>37675.006</td>\n",
       "      <td>6.5</td>\n",
       "    </tr>\n",
       "    <tr>\n",
       "      <th>Belgium</th>\n",
       "      <td>40106.632</td>\n",
       "      <td>6.9</td>\n",
       "    </tr>\n",
       "    <tr>\n",
       "      <th>Germany</th>\n",
       "      <td>40996.511</td>\n",
       "      <td>7.0</td>\n",
       "    </tr>\n",
       "    <tr>\n",
       "      <th>Finland</th>\n",
       "      <td>41973.988</td>\n",
       "      <td>7.4</td>\n",
       "    </tr>\n",
       "    <tr>\n",
       "      <th>Canada</th>\n",
       "      <td>43331.961</td>\n",
       "      <td>7.3</td>\n",
       "    </tr>\n",
       "    <tr>\n",
       "      <th>Netherlands</th>\n",
       "      <td>43603.115</td>\n",
       "      <td>7.3</td>\n",
       "    </tr>\n",
       "    <tr>\n",
       "      <th>Austria</th>\n",
       "      <td>43724.031</td>\n",
       "      <td>6.9</td>\n",
       "    </tr>\n",
       "    <tr>\n",
       "      <th>United Kingdom</th>\n",
       "      <td>43770.688</td>\n",
       "      <td>6.8</td>\n",
       "    </tr>\n",
       "    <tr>\n",
       "      <th>Sweden</th>\n",
       "      <td>49866.266</td>\n",
       "      <td>7.2</td>\n",
       "    </tr>\n",
       "    <tr>\n",
       "      <th>Iceland</th>\n",
       "      <td>50854.583</td>\n",
       "      <td>7.5</td>\n",
       "    </tr>\n",
       "    <tr>\n",
       "      <th>Australia</th>\n",
       "      <td>50961.865</td>\n",
       "      <td>7.3</td>\n",
       "    </tr>\n",
       "    <tr>\n",
       "      <th>Ireland</th>\n",
       "      <td>51350.744</td>\n",
       "      <td>7.0</td>\n",
       "    </tr>\n",
       "    <tr>\n",
       "      <th>Denmark</th>\n",
       "      <td>52114.165</td>\n",
       "      <td>7.5</td>\n",
       "    </tr>\n",
       "    <tr>\n",
       "      <th>United States</th>\n",
       "      <td>55805.204</td>\n",
       "      <td>7.2</td>\n",
       "    </tr>\n",
       "  </tbody>\n",
       "</table>\n",
       "</div>"
      ],
      "text/plain": [
       "                 GDP per capita  Life satisfaction\n",
       "Country                                           \n",
       "Russia                 9054.914                6.0\n",
       "Turkey                 9437.372                5.6\n",
       "Hungary               12239.894                4.9\n",
       "Poland                12495.334                5.8\n",
       "Slovak Republic       15991.736                6.1\n",
       "Estonia               17288.083                5.6\n",
       "Greece                18064.288                4.8\n",
       "Portugal              19121.592                5.1\n",
       "Slovenia              20732.482                5.7\n",
       "Spain                 25864.721                6.5\n",
       "Korea                 27195.197                5.8\n",
       "Italy                 29866.581                6.0\n",
       "Japan                 32485.545                5.9\n",
       "Israel                35343.336                7.4\n",
       "New Zealand           37044.891                7.3\n",
       "France                37675.006                6.5\n",
       "Belgium               40106.632                6.9\n",
       "Germany               40996.511                7.0\n",
       "Finland               41973.988                7.4\n",
       "Canada                43331.961                7.3\n",
       "Netherlands           43603.115                7.3\n",
       "Austria               43724.031                6.9\n",
       "United Kingdom        43770.688                6.8\n",
       "Sweden                49866.266                7.2\n",
       "Iceland               50854.583                7.5\n",
       "Australia             50961.865                7.3\n",
       "Ireland               51350.744                7.0\n",
       "Denmark               52114.165                7.5\n",
       "United States         55805.204                7.2"
      ]
     },
     "execution_count": 75,
     "metadata": {},
     "output_type": "execute_result"
    }
   ],
   "source": [
    "# this is our raw data set:\n",
    "sample_data"
   ]
  },
  {
   "cell_type": "code",
   "execution_count": 76,
   "metadata": {},
   "outputs": [
    {
     "data": {
      "text/html": [
       "<div>\n",
       "<style scoped>\n",
       "    .dataframe tbody tr th:only-of-type {\n",
       "        vertical-align: middle;\n",
       "    }\n",
       "\n",
       "    .dataframe tbody tr th {\n",
       "        vertical-align: top;\n",
       "    }\n",
       "\n",
       "    .dataframe thead th {\n",
       "        text-align: right;\n",
       "    }\n",
       "</style>\n",
       "<table border=\"1\" class=\"dataframe\">\n",
       "  <thead>\n",
       "    <tr style=\"text-align: right;\">\n",
       "      <th></th>\n",
       "      <th>GDP per capita</th>\n",
       "      <th>Life satisfaction</th>\n",
       "    </tr>\n",
       "    <tr>\n",
       "      <th>Country</th>\n",
       "      <th></th>\n",
       "      <th></th>\n",
       "    </tr>\n",
       "  </thead>\n",
       "  <tbody>\n",
       "    <tr>\n",
       "      <th>Russia</th>\n",
       "      <td>9054.914</td>\n",
       "      <td>6.0</td>\n",
       "    </tr>\n",
       "    <tr>\n",
       "      <th>Turkey</th>\n",
       "      <td>9437.372</td>\n",
       "      <td>5.6</td>\n",
       "    </tr>\n",
       "    <tr>\n",
       "      <th>Hungary</th>\n",
       "      <td>12239.894</td>\n",
       "      <td>4.9</td>\n",
       "    </tr>\n",
       "    <tr>\n",
       "      <th>Poland</th>\n",
       "      <td>12495.334</td>\n",
       "      <td>5.8</td>\n",
       "    </tr>\n",
       "    <tr>\n",
       "      <th>Slovak Republic</th>\n",
       "      <td>15991.736</td>\n",
       "      <td>6.1</td>\n",
       "    </tr>\n",
       "    <tr>\n",
       "      <th>Estonia</th>\n",
       "      <td>17288.083</td>\n",
       "      <td>5.6</td>\n",
       "    </tr>\n",
       "    <tr>\n",
       "      <th>Greece</th>\n",
       "      <td>18064.288</td>\n",
       "      <td>4.8</td>\n",
       "    </tr>\n",
       "    <tr>\n",
       "      <th>Portugal</th>\n",
       "      <td>19121.592</td>\n",
       "      <td>5.1</td>\n",
       "    </tr>\n",
       "    <tr>\n",
       "      <th>Slovenia</th>\n",
       "      <td>20732.482</td>\n",
       "      <td>5.7</td>\n",
       "    </tr>\n",
       "    <tr>\n",
       "      <th>Spain</th>\n",
       "      <td>25864.721</td>\n",
       "      <td>6.5</td>\n",
       "    </tr>\n",
       "    <tr>\n",
       "      <th>Korea</th>\n",
       "      <td>27195.197</td>\n",
       "      <td>5.8</td>\n",
       "    </tr>\n",
       "    <tr>\n",
       "      <th>Italy</th>\n",
       "      <td>29866.581</td>\n",
       "      <td>6.0</td>\n",
       "    </tr>\n",
       "    <tr>\n",
       "      <th>Japan</th>\n",
       "      <td>32485.545</td>\n",
       "      <td>5.9</td>\n",
       "    </tr>\n",
       "    <tr>\n",
       "      <th>Israel</th>\n",
       "      <td>35343.336</td>\n",
       "      <td>7.4</td>\n",
       "    </tr>\n",
       "    <tr>\n",
       "      <th>New Zealand</th>\n",
       "      <td>37044.891</td>\n",
       "      <td>7.3</td>\n",
       "    </tr>\n",
       "    <tr>\n",
       "      <th>France</th>\n",
       "      <td>37675.006</td>\n",
       "      <td>6.5</td>\n",
       "    </tr>\n",
       "    <tr>\n",
       "      <th>Belgium</th>\n",
       "      <td>40106.632</td>\n",
       "      <td>6.9</td>\n",
       "    </tr>\n",
       "    <tr>\n",
       "      <th>Germany</th>\n",
       "      <td>40996.511</td>\n",
       "      <td>7.0</td>\n",
       "    </tr>\n",
       "    <tr>\n",
       "      <th>Finland</th>\n",
       "      <td>41973.988</td>\n",
       "      <td>7.4</td>\n",
       "    </tr>\n",
       "    <tr>\n",
       "      <th>Canada</th>\n",
       "      <td>43331.961</td>\n",
       "      <td>7.3</td>\n",
       "    </tr>\n",
       "    <tr>\n",
       "      <th>Netherlands</th>\n",
       "      <td>43603.115</td>\n",
       "      <td>7.3</td>\n",
       "    </tr>\n",
       "    <tr>\n",
       "      <th>Austria</th>\n",
       "      <td>43724.031</td>\n",
       "      <td>6.9</td>\n",
       "    </tr>\n",
       "    <tr>\n",
       "      <th>United Kingdom</th>\n",
       "      <td>43770.688</td>\n",
       "      <td>6.8</td>\n",
       "    </tr>\n",
       "    <tr>\n",
       "      <th>Sweden</th>\n",
       "      <td>49866.266</td>\n",
       "      <td>7.2</td>\n",
       "    </tr>\n",
       "    <tr>\n",
       "      <th>Iceland</th>\n",
       "      <td>50854.583</td>\n",
       "      <td>7.5</td>\n",
       "    </tr>\n",
       "    <tr>\n",
       "      <th>Australia</th>\n",
       "      <td>50961.865</td>\n",
       "      <td>7.3</td>\n",
       "    </tr>\n",
       "    <tr>\n",
       "      <th>Ireland</th>\n",
       "      <td>51350.744</td>\n",
       "      <td>7.0</td>\n",
       "    </tr>\n",
       "    <tr>\n",
       "      <th>Denmark</th>\n",
       "      <td>52114.165</td>\n",
       "      <td>7.5</td>\n",
       "    </tr>\n",
       "    <tr>\n",
       "      <th>United States</th>\n",
       "      <td>55805.204</td>\n",
       "      <td>7.2</td>\n",
       "    </tr>\n",
       "  </tbody>\n",
       "</table>\n",
       "</div>"
      ],
      "text/plain": [
       "                 GDP per capita  Life satisfaction\n",
       "Country                                           \n",
       "Russia                 9054.914                6.0\n",
       "Turkey                 9437.372                5.6\n",
       "Hungary               12239.894                4.9\n",
       "Poland                12495.334                5.8\n",
       "Slovak Republic       15991.736                6.1\n",
       "Estonia               17288.083                5.6\n",
       "Greece                18064.288                4.8\n",
       "Portugal              19121.592                5.1\n",
       "Slovenia              20732.482                5.7\n",
       "Spain                 25864.721                6.5\n",
       "Korea                 27195.197                5.8\n",
       "Italy                 29866.581                6.0\n",
       "Japan                 32485.545                5.9\n",
       "Israel                35343.336                7.4\n",
       "New Zealand           37044.891                7.3\n",
       "France                37675.006                6.5\n",
       "Belgium               40106.632                6.9\n",
       "Germany               40996.511                7.0\n",
       "Finland               41973.988                7.4\n",
       "Canada                43331.961                7.3\n",
       "Netherlands           43603.115                7.3\n",
       "Austria               43724.031                6.9\n",
       "United Kingdom        43770.688                6.8\n",
       "Sweden                49866.266                7.2\n",
       "Iceland               50854.583                7.5\n",
       "Australia             50961.865                7.3\n",
       "Ireland               51350.744                7.0\n",
       "Denmark               52114.165                7.5\n",
       "United States         55805.204                7.2"
      ]
     },
     "execution_count": 76,
     "metadata": {},
     "output_type": "execute_result"
    }
   ],
   "source": [
    "# and this is our preprocessed data\n",
    "country_stats"
   ]
  },
  {
   "cell_type": "markdown",
   "metadata": {},
   "source": [
    "We start by preparing the data for X and y, and visualize it by plotting it.\n",
    "Then we define our new model `knn`, train it with `fit()` and find our `y_pred`."
   ]
  },
  {
   "cell_type": "code",
   "execution_count": 77,
   "metadata": {},
   "outputs": [
    {
     "name": "stdout",
     "output_type": "stream",
     "text": [
      "X.shape= (29, 1)\n",
      "y.shape= (29, 1)\n"
     ]
    },
    {
     "data": {
      "image/png": "[encoded data removed]",
      "text/plain": [
       "<Figure size 432x288 with 1 Axes>"
      ]
     },
     "metadata": {
      "needs_background": "light"
     },
     "output_type": "display_data"
    },
    {
     "name": "stdout",
     "output_type": "stream",
     "text": [
      "[[5.76666667]]\n"
     ]
    }
   ],
   "source": [
    "from sklearn import neighbors\n",
    "\n",
    "# Prepare the data\n",
    "X = np.c_[country_stats[\"GDP per capita\"]]\n",
    "y = np.c_[country_stats[\"Life satisfaction\"]]\n",
    "\n",
    "print(\"X.shape=\",X.shape)\n",
    "print(\"y.shape=\",y.shape)\n",
    "\n",
    "# Visualize the data\n",
    "country_stats.plot(kind='scatter', x=\"GDP per capita\", y='Life satisfaction')\n",
    "plt.show()\n",
    "\n",
    "# Here we select model and train it with the fit method:\n",
    "knn = sklearn.neighbors.KNeighborsRegressor(n_neighbors=3)\n",
    "knn.fit(X,y)\n",
    "\n",
    "# Here we predict:\n",
    "X_new = [[22587]]  \n",
    "y_pred = knn.predict(X_new)\n",
    "print(y_pred) "
   ]
  },
  {
   "cell_type": "markdown",
   "metadata": {},
   "source": [
    "MANGLER SAMMENLIGNING PÅ PREDICT RESULTAT FRA HVER MODEL + KAN DE OVERHOVEDET SAMMENLIGNES?\n",
    "\n",
    "Our `y_pred` (Cyprus) result for this model is ~5.77 where the `y_pred` for our linear model was ~5.96 \n",
    "\n",
    "????????????"
   ]
  },
  {
   "cell_type": "markdown",
   "metadata": {},
   "source": [
    "We now find the score, to compare it to the linear regression model:"
   ]
  },
  {
   "cell_type": "code",
   "execution_count": 78,
   "metadata": {},
   "outputs": [
    {
     "name": "stdout",
     "output_type": "stream",
     "text": [
      "0.8525732853499179\n"
     ]
    }
   ],
   "source": [
    "#Here we find the score:\n",
    "print(knn.score(X,y))"
   ]
  },
  {
   "cell_type": "markdown",
   "metadata": {},
   "source": [
    "As seen in the output we get a score of 0.8525732853499179.\n",
    "\n",
    "When we look at the score and compare it with the score of the linear regression model, we see, that this new score is closer to the best psosible score of 1.0. So by looking at this, we see that the k-Nearest neighbor model with k=3 is closer to the ground truth, than the linear model. The reason for this is that this new model is only looking at the nearest samples, where the linear model has to look at the samples as a whole. So if a sample is longer away from all the other samples, this will have a much bigger effect on the linear model, than om the k-Nearest neighbor model.\n",
    "\n",
    "\n",
    "MANGLER SVAR PÅ DETTE: \"Remember to put pointer/text from the Sckikit-learn documentation in the journal...(did you find the right kNN model etc.)\""
   ]
  },
  {
   "cell_type": "markdown",
   "metadata": {
    "tags": [
     "L01-intro"
    ]
   },
   "source": [
    "### Qc) Tuning Parameter for k-Nearest Neighbors and A Sanity Check\n",
    "In this task we will look closer at the k-Nearest neighbor model. We have this by choosing different values for the paramter k. Here we chose k=1 and k=20. We make a model for each and train it. Then we have plotted the `y_pred` for the linear model and the k-Nearest neighbor model from earlier along with our two new versions of the k-Nearest neighbor model.\n"
   ]
  },
  {
   "cell_type": "code",
   "execution_count": 79,
   "metadata": {},
   "outputs": [
    {
     "name": "stdout",
     "output_type": "stream",
     "text": [
      "score for knn1:  1.0\n",
      "score for knn20:  0.5523762709199536\n"
     ]
    },
    {
     "data": {
      "text/plain": [
       "[<matplotlib.lines.Line2D at 0x183001dc760>]"
      ]
     },
     "execution_count": 79,
     "metadata": {},
     "output_type": "execute_result"
    },
    {
     "data": {
      "image/png": "[encoded data removed]",
      "text/plain": [
       "<Figure size 576x360 with 1 Axes>"
      ]
     },
     "metadata": {
      "needs_background": "light"
     },
     "output_type": "display_data"
    }
   ],
   "source": [
    "sample_data.plot(kind='scatter', x=\"GDP per capita\", y='Life satisfaction', figsize=(8,5))\n",
    "plt.axis([0, 60000, 0, 10])\n",
    "\n",
    "# creating a test matrix M, with the same dimensionality as X, and in the range [0;60000] \n",
    "# and a step size\n",
    "m=np.linspace(0, 60000, 1000)\n",
    "M=np.empty([m.shape[0],1])\n",
    "M[:,0]=m\n",
    "\n",
    "# from this test M data, predict the y values via the lin.reg. and k-nearest models\n",
    "y_pred_lin = model.predict(M)\n",
    "y_pred_knn = knn.predict(M)\n",
    "\n",
    "# using plt.plot to plot x-y into the sample_data plot\n",
    "plt.plot(m, y_pred_lin, \"r\")\n",
    "plt.plot(m, y_pred_knn, \"b\")\n",
    "\n",
    "# New knn models with k=1 k=20\n",
    "knn1 = sklearn.neighbors.KNeighborsRegressor(n_neighbors=1)\n",
    "knn1.fit(X,y)\n",
    "\n",
    "knn20 = sklearn.neighbors.KNeighborsRegressor(n_neighbors=20)\n",
    "knn20.fit(X,y)\n",
    "\n",
    "#Finding predictions for knn1 and knn20:\n",
    "y_pred_knn1 = knn1.predict(M)\n",
    "y_pred_knn20 = knn20.predict(M)\n",
    "\n",
    "#Finding scores for knn1 and knn20:\n",
    "print(\"score for knn1: \", knn1.score(X,y))\n",
    "print(\"score for knn20: \", knn20.score(X,y))\n",
    "\n",
    "\n",
    "## Adding knn1 og knn20 to the plot:\n",
    "plt.plot(m, y_pred_knn1, \"g\")\n",
    "plt.plot(m, y_pred_knn20, \"y\")\n"
   ]
  },
  {
   "cell_type": "markdown",
   "metadata": {},
   "source": [
    "As we see in the output the score of knn1 = 1.0, which is the highest possible score. But we do not see this as good or that this model is the preferred estimator for the job. The knn1 model id only looking at one sample to make it's prediction, which only gives the exact values of the actual smaples. When we look at a model, we prefer a model which is looking at different samples and make the prediction from this. This is more true, since it is unlikely that the data we put into the model is the exact same data as the sample data.\n",
    "\n",
    "But on the other hand if we look at knn20 (yellow line) and this score of 0.55, we do not see this as a good model either. Here the model looks at too many samples to make a prediction, which is resulting in results, which can be far from the truth."
   ]
  },
  {
   "cell_type": "markdown",
   "metadata": {
    "tags": [
     "L01-intro"
    ]
   },
   "source": [
    "### Qd) Trying out a Neural Network\n",
    "In this task we try a Neural Network on the data, by using the Scikit-learns Multi-Layer Perceptron for regression (MLPRegressor). \n",
    "Since the dataset for the MLP is not scaled well, we will tweak a lot of parameters in the MLP just to get some sensible output. \n",
    "So we will below we try training the MLP regression model, predict the `y_pred` (Cyprus), and the score."
   ]
  },
  {
   "cell_type": "code",
   "execution_count": 80,
   "metadata": {},
   "outputs": [
    {
     "name": "stdout",
     "output_type": "stream",
     "text": [
      "score:  0.7344414349065193\n"
     ]
    },
    {
     "data": {
      "image/png": "[encoded data removed]",
      "text/plain": [
       "<Figure size 432x288 with 1 Axes>"
      ]
     },
     "metadata": {
      "needs_background": "light"
     },
     "output_type": "display_data"
    }
   ],
   "source": [
    "from sklearn.neural_network import MLPRegressor\n",
    "\n",
    "# Setup MLPRegressor\n",
    "mlp = MLPRegressor( hidden_layer_sizes=(10,), solver='lbfgs', activation='relu', tol=1E-5, max_iter=100000, verbose=False)\n",
    "mlp.fit(X,y.ravel())\n",
    "\n",
    "# MLP regressor prediction and reduing the plots\n",
    "y_pred_mlp = mlp.predict(M) \n",
    "plt.plot(m, y_pred_lin, \"r\")\n",
    "plt.plot(m, y_pred_knn, \"b\")\n",
    "plt.plot(m, y_pred_mlp, \"k\")\n",
    "\n",
    "# MLP regressor score\n",
    "print(\"score: \", mlp.score(X,y.ravel()))"
   ]
  },
  {
   "cell_type": "markdown",
   "metadata": {},
   "source": [
    "As we run this code we see a different output each time.\n",
    "Here are some of the results we got on the score: ~-4.706, ~2.22, ~0.08, ~0.73\n",
    "\n",
    "The formular to get the score is the same as with previous models, so the score can be compared.\n",
    "Neural networks are trained in a random pattern instead of a statistical. This means that each time the model is retrained the score can change."
   ]
  },
  {
   "cell_type": "code",
   "execution_count": 81,
   "metadata": {},
   "outputs": [
    {
     "name": "stdout",
     "output_type": "stream",
     "text": [
      "Once deleted, variables cannot be recovered. Proceed (y/[n])? y\n"
     ]
    }
   ],
   "source": [
    "%reset"
   ]
  },
  {
   "cell_type": "markdown",
   "metadata": {
    "tags": [
     "L01-ModulesAndClasses"
    ]
   },
   "source": [
    "## L01 - modules_and_classes\n",
    "In this task we will look at using modules, calling functions from the modules and reloading/recompiling them. We will also look at Python classes and their structure for private/public functions, constructors/destructors and how to serialize classes."
   ]
  },
  {
   "cell_type": "markdown",
   "metadata": {
    "tags": [
     "L01-ModulesAndClasses"
    ]
   },
   "source": [
    "### Qa) Load and test the `libitmal` module\n",
    "In this task we try out the `libitmal` module from [GITMAL] and run the function from the module. To do this we have set up the `PYTHONPATH` by using the command (on windows):\n",
    "\n",
    "```bash\n",
    "CMD> setx.exe PYTHONPATH \"C:\\Users\\<username>\\source\\repos\\MAL_MachineLearning\\itmal\"\n",
    "```\n",
    "with the username matching each group member.\n",
    "\n",
    "The code for importing the module and running the function:"
   ]
  },
  {
   "cell_type": "code",
   "execution_count": 82,
   "metadata": {},
   "outputs": [
    {
     "name": "stdout",
     "output_type": "stream",
     "text": [
      "TestPrintMatrix...(no regression testing)\n",
      "X=[[   1.    2.]\n",
      "   [   3. -100.]\n",
      "   [   1.   -1.]]\n",
      "X=[[ 1.  2.]\n",
      "   ...\n",
      "   [ 1. -1.]]\n",
      "X=[[   1.\n",
      "       2.    ]\n",
      "   [   3.0001\n",
      "    -100.    ]\n",
      "   [   1.\n",
      "      -1.    ]]\n",
      "X=[[   1.    2.]\n",
      "   [   3. -100.]\n",
      "   [   1.   -1.]]\n",
      "OK\n",
      "TEST: OK\n",
      "ALL OK\n"
     ]
    }
   ],
   "source": [
    "from libitmal import utils as itmalutils\n",
    "itmalutils.TestAll()"
   ]
  },
  {
   "cell_type": "markdown",
   "metadata": {
    "tags": [
     "L01-ModulesAndClasses"
    ]
   },
   "source": [
    "### Qb) Create your own module, with some functions, and test it\n",
    "In this task we make our own module called `dummy` with some dummy functionality.\n",
    "This dummy is placed inside the libitmal with the path\n",
    "```bash\n",
    "\"C:\\Users\\<username>\\source\\repos\\MAL_MachineLearning\\itmal\\libitmal\" \n",
    "```\n",
    "with the username matching each group member.\n",
    "\n",
    "SKAL DER VÆRE ET UDKLIP AF HVORDAN FILEN SER UD???\n",
    "\n",
    "Below is the import and run of the function:"
   ]
  },
  {
   "cell_type": "code",
   "execution_count": 83,
   "metadata": {},
   "outputs": [
    {
     "name": "stdout",
     "output_type": "stream",
     "text": [
      "You are a dummy function!\n"
     ]
    }
   ],
   "source": [
    "from libitmal import dummy\n",
    "dummy.dummy_function()"
   ]
  },
  {
   "cell_type": "markdown",
   "metadata": {
    "tags": [
     "L01-ModulesAndClasses"
    ]
   },
   "source": [
    "### Qc) How do you 'recompile' a module?\n",
    "To force the Jupyter notebook to reload the module changes we write: "
   ]
  },
  {
   "cell_type": "code",
   "execution_count": 84,
   "metadata": {},
   "outputs": [
    {
     "name": "stdout",
     "output_type": "stream",
     "text": [
      "This is a message inside the class.\n"
     ]
    },
    {
     "data": {
      "text/plain": [
       "<module 'libitmal.dummy' from 'C:\\\\Users\\\\randi\\\\source\\\\repos\\\\MAL_MachineLearning\\\\itmal\\\\libitmal\\\\dummy.py'>"
      ]
     },
     "execution_count": 84,
     "metadata": {},
     "output_type": "execute_result"
    }
   ],
   "source": [
    "import importlib\n",
    "importlib.reload(dummy)"
   ]
  },
  {
   "cell_type": "markdown",
   "metadata": {
    "tags": [
     "L01-ModulesAndClasses"
    ]
   },
   "source": [
    "### Qe) Extend the class with some public and private functions and member variables\n",
    "In this task we will look at classes in Python.\n",
    "\n",
    "Private functions and variables are represented by the prefix of a double underscore \"__\".\n",
    "\n",
    "`self` is a reference to the object that calls the method. A reference to itself.\n",
    "Through the `self` the class is able to access the class atributes. As shown in the method `print_myvar`: "
   ]
  },
  {
   "cell_type": "code",
   "execution_count": 85,
   "metadata": {},
   "outputs": [
    {
     "name": "stdout",
     "output_type": "stream",
     "text": [
      "This is a message inside the class.\n",
      "blah\n"
     ]
    }
   ],
   "source": [
    "class MyClass:\n",
    "    myvar = \"blah\"\n",
    "\n",
    "    def myfun(self):\n",
    "        print(\"This is a message inside the class.\")\n",
    "    \n",
    "    def print_myvar(self):\n",
    "        print(self.myvar)\n",
    "        \n",
    "myobjectx = MyClass()\n",
    "\n",
    "myobjectx.myfun()\n",
    "\n",
    "myobjectx.print_myvar()"
   ]
  },
  {
   "cell_type": "markdown",
   "metadata": {},
   "source": [
    "If we remove the `self` in the functions parameters, we will get an erro for calling the resprective functions with one argument, when zero is expected. We see this because we make an object of the class and then call the respective function on that object, which here will automatically send a reference of itself. \n",
    "This is demostrated below with a demo class:"
   ]
  },
  {
   "cell_type": "code",
   "execution_count": 136,
   "metadata": {},
   "outputs": [
    {
     "ename": "TypeError",
     "evalue": "myfun() takes 0 positional arguments but 1 was given",
     "output_type": "error",
     "traceback": [
      "\u001b[1;31m---------------------------------------------------------------------------\u001b[0m",
      "\u001b[1;31mTypeError\u001b[0m                                 Traceback (most recent call last)",
      "\u001b[1;32m<ipython-input-136-e2d6f1d16268>\u001b[0m in \u001b[0;36m<module>\u001b[1;34m\u001b[0m\n\u001b[0;32m     10\u001b[0m \u001b[0mmyobjectxDemo\u001b[0m \u001b[1;33m=\u001b[0m \u001b[0mMyClassDemo\u001b[0m\u001b[1;33m(\u001b[0m\u001b[1;33m)\u001b[0m\u001b[1;33m\u001b[0m\u001b[1;33m\u001b[0m\u001b[0m\n\u001b[0;32m     11\u001b[0m \u001b[1;33m\u001b[0m\u001b[0m\n\u001b[1;32m---> 12\u001b[1;33m \u001b[0mmyobjectxDemo\u001b[0m\u001b[1;33m.\u001b[0m\u001b[0mmyfun\u001b[0m\u001b[1;33m(\u001b[0m\u001b[1;33m)\u001b[0m\u001b[1;33m\u001b[0m\u001b[1;33m\u001b[0m\u001b[0m\n\u001b[0m\u001b[0;32m     13\u001b[0m \u001b[1;33m\u001b[0m\u001b[0m\n\u001b[0;32m     14\u001b[0m \u001b[0mmyobjectxDemo\u001b[0m\u001b[1;33m.\u001b[0m\u001b[0mprint_myvar\u001b[0m\u001b[1;33m(\u001b[0m\u001b[1;33m)\u001b[0m\u001b[1;33m\u001b[0m\u001b[1;33m\u001b[0m\u001b[0m\n",
      "\u001b[1;31mTypeError\u001b[0m: myfun() takes 0 positional arguments but 1 was given"
     ]
    }
   ],
   "source": [
    "class MyClassDemo:\n",
    "    myvar = \"blah\"\n",
    "\n",
    "    def myfun():\n",
    "        print(\"This is a message inside the class.\")\n",
    "    \n",
    "    def print_myvar():\n",
    "        print(self.myvar)\n",
    "        \n",
    "myobjectxDemo = MyClassDemo()\n",
    "\n",
    "myobjectxDemo.myfun()\n",
    "\n",
    "myobjectxDemo.print_myvar()"
   ]
  },
  {
   "cell_type": "markdown",
   "metadata": {
    "tags": [
     "L01-ModulesAndClasses"
    ]
   },
   "source": [
    "### Qf) Extend the class with a Constructor\n",
    "In this task we will define a constructor in a Python class. In python classes the constructor is the `__init__` function:"
   ]
  },
  {
   "cell_type": "code",
   "execution_count": 87,
   "metadata": {},
   "outputs": [
    {
     "name": "stdout",
     "output_type": "stream",
     "text": [
      "This is a message from the constructor\n",
      "This is a message inside the class.\n"
     ]
    }
   ],
   "source": [
    "class MyClassWithCTOR:\n",
    "    def __init__(self):\n",
    "        print(\"This is a message from the constructor\")\n",
    "    \n",
    "    def myfun(self):\n",
    "        print(\"This is a message inside the class.\")\n",
    "        \n",
    "obj = MyClassWithCTOR()\n",
    "\n",
    "obj.myfun()"
   ]
  },
  {
   "cell_type": "markdown",
   "metadata": {},
   "source": [
    "As we see from the output the print statement from the constructor is printed as soon as the the object `obj` is created of the class.\n",
    "\n",
    "There is a destructor in Python called `__del__`, but this is not used often, since Python already handles garbage collection."
   ]
  },
  {
   "cell_type": "markdown",
   "metadata": {
    "tags": [
     "L01-ModulesAndClasses"
    ]
   },
   "source": [
    "### Qg) Extend the class with a to-string function\n",
    "In this task we will serialize a class. This is done by using the library pickle and...\n",
    "\n",
    "MANGLER BESKRIVELSE!!!!!!!!"
   ]
  },
  {
   "cell_type": "code",
   "execution_count": 88,
   "metadata": {},
   "outputs": [
    {
     "name": "stdout",
     "output_type": "stream",
     "text": [
      "This has been serialized:\n",
      " b'\\x80\\x04\\x95!\\x00\\x00\\x00\\x00\\x00\\x00\\x00\\x8c\\x08__main__\\x94\\x8c\\rexample_class\\x94\\x93\\x94)\\x81\\x94.'\n",
      "\n",
      "This has been unserialized:\n",
      " Hello\n",
      "\n",
      "This is the original that was altered:\n",
      " Goodbye\n",
      "\n"
     ]
    }
   ],
   "source": [
    "import pickle\n",
    "\n",
    "class example_class:\n",
    "    a_number = 24\n",
    "    a_string = \"Hello\"\n",
    "    a_list = [1,2,3]\n",
    "    a_tuble = (4, 2)\n",
    "    \n",
    "myObj = example_class()\n",
    "\n",
    "mySerializedObj = pickle.dumps(myObj)\n",
    "print(f\"This has been serialized:\\n {mySerializedObj}\\n\")\n",
    "\n",
    "myObj.a_string = \"Goodbye\"\n",
    "\n",
    "unSerializedObj = pickle.loads(mySerializedObj)\n",
    "print(f\"This has been unserialized:\\n {unSerializedObj.a_string}\\n\")\n",
    "print(f\"This is the original that was altered:\\n {myObj.a_string}\\n\")"
   ]
  },
  {
   "cell_type": "code",
   "execution_count": 89,
   "metadata": {},
   "outputs": [
    {
     "name": "stdout",
     "output_type": "stream",
     "text": [
      "Once deleted, variables cannot be recovered. Proceed (y/[n])? y\n"
     ]
    }
   ],
   "source": [
    "%reset"
   ]
  },
  {
   "cell_type": "markdown",
   "metadata": {
    "tags": [
     "L02-cost_function"
    ]
   },
   "source": [
    "## L02 - cost_function\n",
    "In this task we will look at the basic implementation of the $\\norm{1}$ and $\\norm{2}$ functions as well as using numpy's dot opretor for the $\\norm{2}$. We also look at the RMSE and MAE functions and how they can use the $\\norm{1}$ and $\\norm{2}$ functions. Last we will add some eroor handling code to the functions."
   ]
  },
  {
   "cell_type": "markdown",
   "metadata": {
    "tags": [
     "L02-cost_function"
    ]
   },
   "source": [
    "### Qa) Given the following $\\mathbf{x}^{(i)}$'s, construct and print the $\\mathbf X$ matrix in python.\n",
    "In this task we will construct and print the X matrix. by using numpy's `np.array` as a matrix container.\n",
    "The $\\mathbf{x}^{(i)}$'s:\n",
    "$$\n",
    "\\newcommand\\rem[1]{}\n",
    "    \\rem{ITMAL: CEF def and LaTeX commands, remember: no newlines in defs}\n",
    "     \\newcommand\\eq[2]{#1 &=& #2\\\\}\n",
    "    \\newcommand\\ar[2]{\\begin{array}{#1}#2\\end{array}}\n",
    "    \\newcommand\\ac[2]{\\left[\\ar{#1}{#2}\\right]}\n",
    "    \\newcommand\\st[1]{_{\\scriptsize #1}}\n",
    "    \\newcommand\\norm[1]{{\\cal L}_{#1}}\n",
    "    \\newcommand\\obs[2]{#1_{\\mbox{\\scriptsize obs}}^{\\left(#2\\right)}}\n",
    "    \\newcommand\\diff[1]{\\mbox{d}#1}\n",
    "    \\newcommand\\pown[1]{^{(#1)}}\n",
    "    \\def\\pownn{\\pown{n}}\n",
    "    \\def\\powni{\\pown{i}}\n",
    "    \\def\\powtest{\\pown{\\mbox{\\scriptsize test}}}\n",
    "    \\def\\powtrain{\\pown{\\mbox{\\scriptsize train}}}\n",
    "    \\def\\bX{\\mathbf{M}}\n",
    "    \\def\\bX{\\mathbf{X}}\n",
    "    \\def\\bZ{\\mathbf{Z}}\n",
    "    \\def\\bw{\\mathbf{m}}\n",
    "    \\def\\bx{\\mathbf{x}}\n",
    "    \\def\\by{\\mathbf{y}}\n",
    "    \\def\\bz{\\mathbf{z}}\n",
    "    \\def\\bw{\\mathbf{w}}\n",
    "    \\def\\btheta{{\\boldsymbol\\theta}}\n",
    "    \\def\\bSigma{{\\boldsymbol\\Sigma}}\n",
    "    \\def\\half{\\frac{1}{2}}\n",
    "$$\n",
    "$$\n",
    "    \\ar{rl}{\n",
    "      \\bx\\pown{1} &= \\ac{c}{ 1, 2, 3}^T \\\\\n",
    "      \\bx\\pown{2} &= \\ac{c}{ 4, 2, 1}^T \\\\\n",
    "      \\bx\\pown{3} &= \\ac{c}{ 3, 8, 5}^T \\\\\n",
    "      \\bx\\pown{4} &= \\ac{c}{-9,-1, 0}^T\n",
    "    }\n",
    "$$\n",
    "Constructing and print:"
   ]
  },
  {
   "cell_type": "code",
   "execution_count": 90,
   "metadata": {},
   "outputs": [
    {
     "name": "stdout",
     "output_type": "stream",
     "text": [
      "[[ 1  2  3]\n",
      " [ 4  2  1]\n",
      " [ 3  8  5]\n",
      " [-9 -1  0]]\n"
     ]
    }
   ],
   "source": [
    "import numpy as np\n",
    "y = np.array([1,2,3,4])\n",
    "\n",
    "X = np.array([[1, 2, 3], [4, 2, 1], [3, 8, 5], [-9, -1, 0]])\n",
    "print(X)"
   ]
  },
  {
   "cell_type": "markdown",
   "metadata": {
    "tags": [
     "L02-cost_function"
    ]
   },
   "source": [
    "### Qb) Implement the $\\norm{1}$ and $\\norm{2}$ norms for vectors in python.\n",
    "In this task we will implement $\\norm{1}$ and $\\norm{2}$, by using primitive/build-in functions. To implement $\\norm{1}$ we look at the definition of the norm:\n",
    "$$\n",
    "    \\norm{1}:~~ ||\\bx||_1 = \\sum_i |x_i|\n",
    "$$\n",
    "The implementation:"
   ]
  },
  {
   "cell_type": "code",
   "execution_count": 91,
   "metadata": {},
   "outputs": [],
   "source": [
    "def L1(x_i):\n",
    "    assert isinstance(x_i, np.ndarray) #Qe\n",
    "    sum = 0\n",
    "    for x in x_i:\n",
    "        sum += np.fabs(x)\n",
    "    return sum"
   ]
  },
  {
   "cell_type": "markdown",
   "metadata": {},
   "source": [
    "To implement $\\norm{2}$ we look at the definition of the norm:\n",
    "$$\n",
    "    \\norm{2}:~~ ||\\bx||_2 = \\left( \\sum_{i=1}^{n} |x_i|^2 \\right)^{1/2}\\\\\n",
    "$$\n",
    "The implementation:"
   ]
  },
  {
   "cell_type": "code",
   "execution_count": 92,
   "metadata": {},
   "outputs": [],
   "source": [
    "def L2(x_i):\n",
    "    assert isinstance(x_i, np.ndarray) #Qe\n",
    "    sum = 0\n",
    "    for x in x_i:\n",
    "        sum += np.fabs(x)**2.0\n",
    "    return sum**0.5"
   ]
  },
  {
   "cell_type": "markdown",
   "metadata": {},
   "source": [
    "Now we test the norms against the build-in function `numpy.linalg.norm`:"
   ]
  },
  {
   "cell_type": "code",
   "execution_count": 93,
   "metadata": {},
   "outputs": [
    {
     "name": "stdout",
     "output_type": "stream",
     "text": [
      "4.242640687119285\n",
      "tx-ty=[-2  3 -1 -2], d1-expected_d1=0.0, d2-expected_d2=0.0\n"
     ]
    }
   ],
   "source": [
    "tx=np.array([1, 2, 3, -1])\n",
    "ty=np.array([3,-1, 4,  1])\n",
    "\n",
    "expected_d1=8.0\n",
    "expected_d2=4.242640687119285\n",
    "\n",
    "d1=L1(tx-ty)\n",
    "d2=L2(tx-ty)\n",
    "\n",
    "libfunc = np.linalg.norm(tx-ty)\n",
    "print(libfunc)\n",
    "\n",
    "print(f\"tx-ty={tx-ty}, d1-expected_d1={d1-expected_d1}, d2-expected_d2={d2-expected_d2}\")\n",
    "\n",
    "eps=1E-9\n",
    "assert np.fabs(d1-expected_d1)<eps, \"L1 dist seems to be wrong\" \n",
    "assert np.fabs(d2-expected_d2)<eps, \"L2 dist seems to be wrong\" "
   ]
  },
  {
   "cell_type": "markdown",
   "metadata": {},
   "source": [
    "Now we will optimize the $\\norm{2}$, such that we use numpy's dot operator instead of an explicit sum and then test the function:"
   ]
  },
  {
   "cell_type": "code",
   "execution_count": 94,
   "metadata": {},
   "outputs": [
    {
     "name": "stdout",
     "output_type": "stream",
     "text": [
      "d2dot-expected_d2= 0.0\n"
     ]
    }
   ],
   "source": [
    "def L2Dot(x_i):\n",
    "    assert isinstance(x_i, np.ndarray) #Qe\n",
    "    sum = np.dot(x_i, x_i)\n",
    "    return sum**0.5\n",
    "\n",
    "d2dot=L2Dot(tx-ty)\n",
    "print(\"d2dot-expected_d2=\",d2dot-expected_d2)\n",
    "assert np.fabs(d2dot-expected_d2)<eps, \"L2Ddot dist seem to be wrong\" "
   ]
  },
  {
   "cell_type": "markdown",
   "metadata": {
    "tags": [
     "L02-cost_function"
    ]
   },
   "source": [
    "### Qc) Construct the Root Mean Square Error (RMSE) function (Equation 2-1 [HOML])\n",
    "In this task we will construct the RMSE function and evaluate it using the X matrix and y from Qa.\n",
    "To construct the RMSE function we use the $\\norm{2}$ from above:"
   ]
  },
  {
   "cell_type": "code",
   "execution_count": 95,
   "metadata": {},
   "outputs": [],
   "source": [
    "def RMSE(h, y):\n",
    "    result = np.sqrt(1/len(h)*L2(h-y)**2.0)\n",
    "    return result"
   ]
  },
  {
   "cell_type": "markdown",
   "metadata": {},
   "source": [
    "A dummy hypothesis fundtion is implemented, which takes the first column of X as its prediction:"
   ]
  },
  {
   "cell_type": "code",
   "execution_count": 96,
   "metadata": {},
   "outputs": [],
   "source": [
    "def h(X):    \n",
    "    if X.ndim!=2:\n",
    "        raise ValueError(\"excpeted X to be of ndim=2, got ndim=\",X.ndim)\n",
    "    if X.shape[0]==0 or X.shape[1]==0:\n",
    "        raise ValueError(\"X got zero data along the 0/1 axis, cannot continue\")\n",
    "    return X[:,0]"
   ]
  },
  {
   "cell_type": "markdown",
   "metadata": {},
   "source": [
    "Then we will call the RMSE function and test it:"
   ]
  },
  {
   "cell_type": "code",
   "execution_count": 97,
   "metadata": {},
   "outputs": [
    {
     "name": "stdout",
     "output_type": "stream",
     "text": [
      "RMSE=6.576473218982953, diff=2.6645352591003757e-15\n"
     ]
    }
   ],
   "source": [
    "r=RMSE(h(X),y)\n",
    "\n",
    "# Testing:\n",
    "eps=1E-9\n",
    "expected=6.57647321898295\n",
    "print(f\"RMSE={r}, diff={r-expected}\")\n",
    "assert np.fabs(r-expected)<eps, \"your RMSE dist seems to be wrong\" "
   ]
  },
  {
   "cell_type": "markdown",
   "metadata": {
    "tags": [
     "L02-cost_function"
    ]
   },
   "source": [
    "### Qd) Similar construct the Mean Absolute Error (MAE) function (Equation 2-2 [HOML]) and evaluate it\n",
    "In this task we wil construct the MAE function, by using the $\\norm{1}$ from above:"
   ]
  },
  {
   "cell_type": "code",
   "execution_count": 98,
   "metadata": {},
   "outputs": [],
   "source": [
    "def MAE(h, y):\n",
    "    result = 1/len(h)*L1(h-y)\n",
    "    return result"
   ]
  },
  {
   "cell_type": "markdown",
   "metadata": {},
   "source": [
    "Calling the function and testing it:"
   ]
  },
  {
   "cell_type": "code",
   "execution_count": 99,
   "metadata": {},
   "outputs": [
    {
     "name": "stdout",
     "output_type": "stream",
     "text": [
      "MAE=3.75, diff=0.0\n"
     ]
    }
   ],
   "source": [
    "r=MAE(h(X), y)\n",
    "\n",
    "# Testing:\n",
    "expected=3.75\n",
    "print(f\"MAE={r}, diff={r-expected}\")\n",
    "assert np.fabs(r-expected)<eps, \"MAE dist seems to be wrong\""
   ]
  },
  {
   "cell_type": "markdown",
   "metadata": {
    "tags": [
     "L02-cost_function"
    ]
   },
   "source": [
    "### Qe) Robust Code\n",
    "In this task we will make error checking code, that checks for the right sizes of $\\hat\\by$-$\\by$ sizes in the MSE and MAE functions:"
   ]
  },
  {
   "cell_type": "code",
   "execution_count": 100,
   "metadata": {},
   "outputs": [],
   "source": [
    "assert len(h(X))==len(y), \"Rows and columns do not match\""
   ]
  },
  {
   "cell_type": "markdown",
   "metadata": {},
   "source": [
    "We also added error checking to all our previously tested $\\norm{1}$ and $\\norm{2}$ functions and reran all the tests. This error checking code is shown in section Qb with a `#Qe` comment."
   ]
  },
  {
   "cell_type": "markdown",
   "metadata": {
    "tags": [
     "L02-cost_function"
    ]
   },
   "source": [
    "### Qf) Conclusion\n",
    "The tasks has made us learn how the $\\norm{1}$ and $\\norm{2}$ functions is constructed in a basic way without using any methods from libraries, but only with primitive/build-in functions.\n",
    "\n",
    "We also learned to use the calculations of RMSE and MAE to give a generel evaluation of the programs quality. The tasks has challenged us in the implementation and this has given a better understanding of how the calculations is to be understood. This task has also given a better understanding of how $\\norm{1}$ and $\\norm{2}$ functions is used for the calculations of MSE and MAE.\n",
    "\n",
    "We also learned how to do error handling on vectors and matrix, which we see beeing very usefull for the future work in machine learning."
   ]
  },
  {
   "cell_type": "code",
   "execution_count": 101,
   "metadata": {},
   "outputs": [
    {
     "name": "stdout",
     "output_type": "stream",
     "text": [
      "Once deleted, variables cannot be recovered. Proceed (y/[n])? y\n"
     ]
    }
   ],
   "source": [
    "%reset"
   ]
  },
  {
   "cell_type": "markdown",
   "metadata": {},
   "source": [
    "## L02 - dummy_classifier\n",
    "In this task we look at the MNIST data-set and how to split this into some train and test sets. We will also look at how to use classifiers and their implementation and extracteíng different types of scores."
   ]
  },
  {
   "cell_type": "markdown",
   "metadata": {
    "tags": [
     "L02-dummy_classifier"
    ]
   },
   "source": [
    "### Qa) Load and display the MNIST data\n",
    "In this task we load the MNIST data-set with the `sklearn.datasets.fetch_openml` dataloader interface in Scikit-learn. To be able to reuse the loading of the data-set we will do it inside a function called `MNIST_GetDataSet()`:"
   ]
  },
  {
   "cell_type": "code",
   "execution_count": 102,
   "metadata": {},
   "outputs": [],
   "source": [
    "from sklearn.datasets import fetch_openml\n",
    "\n",
    "def MNIST_GetDataSet():\n",
    "    X, y = fetch_openml('mnist_784', return_X_y = True)\n",
    "    X = X / 255.\n",
    "    return (X,y)\n",
    "\n",
    "X, y = MNIST_GetDataSet()"
   ]
  },
  {
   "cell_type": "markdown",
   "metadata": {},
   "source": [
    "We will now plot a single digit from the data-set:"
   ]
  },
  {
   "cell_type": "code",
   "execution_count": 103,
   "metadata": {},
   "outputs": [
    {
     "name": "stdout",
     "output_type": "stream",
     "text": [
      "Digit:  5\n"
     ]
    },
    {
     "data": {
      "image/png": "[encoded data removed]",
      "text/plain": [
       "<Figure size 432x288 with 1 Axes>"
      ]
     },
     "metadata": {
      "needs_background": "light"
     },
     "output_type": "display_data"
    }
   ],
   "source": [
    "%matplotlib inline\n",
    "def MNIST_PlotDigit(data):\n",
    "    import matplotlib\n",
    "    import matplotlib.pyplot as plt\n",
    "    image = data.reshape(28, 28)\n",
    "    plt.imshow(image, cmap = matplotlib.cm.binary, interpolation=\"nearest\")\n",
    "    plt.axis(\"off\")\n",
    "    \n",
    "MNIST_PlotDigit(X[0])\n",
    "print(\"Digit: \", y[0])"
   ]
  },
  {
   "cell_type": "markdown",
   "metadata": {
    "tags": [
     "L02-dummy_classifier"
    ]
   },
   "source": [
    "### Qb)  Add a Stochastic Gradient Decent [SGD] Classifier\n",
    "In this task we wil create a train-test data-set and then add the `SGDClassifier`. So first we split our data into some test- and train-data and find the category-5 y inputs to create a binary-classifier, which will enable us to classify a particular data sample:"
   ]
  },
  {
   "cell_type": "code",
   "execution_count": 104,
   "metadata": {},
   "outputs": [],
   "source": [
    "X_train, X_test, y_train, y_test = X[:60000], X[60000:], y[:60000], y[60000:]\n",
    "y_train_5 = (y_train == '5')\n",
    "y_test_5  = (y_test == '5')"
   ]
  },
  {
   "cell_type": "markdown",
   "metadata": {},
   "source": [
    "To use the classifier we need to reshape the MNIST X-data to ensure the size of the data is the same as the ones we will compare with later:"
   ]
  },
  {
   "cell_type": "code",
   "execution_count": 105,
   "metadata": {},
   "outputs": [
    {
     "name": "stdout",
     "output_type": "stream",
     "text": [
      "X.shape=(70000, 784)\n",
      "X.shape=(70000, 784)\n"
     ]
    }
   ],
   "source": [
    "print(f\"X.shape={X.shape}\") # print X.shape= (70000, 28, 28)\n",
    "if X.ndim==3:\n",
    "    print(\"reshaping X..\")\n",
    "    assert y.ndim==1\n",
    "    X = X.reshape((X.shape[0],X.shape[1]*X.shape[2]))\n",
    "assert X.ndim==2\n",
    "print(f\"X.shape={X.shape}\") # X.shape= (70000, 784)"
   ]
  },
  {
   "cell_type": "markdown",
   "metadata": {},
   "source": [
    "Adding the `SGDClassifier`:"
   ]
  },
  {
   "cell_type": "code",
   "execution_count": 106,
   "metadata": {},
   "outputs": [
    {
     "data": {
      "text/plain": [
       "SGDClassifier(random_state=42)"
      ]
     },
     "execution_count": 106,
     "metadata": {},
     "output_type": "execute_result"
    }
   ],
   "source": [
    "from sklearn.linear_model import SGDClassifier \n",
    "\n",
    "sgd_clf = SGDClassifier(random_state=42)\n",
    "sgd_clf.fit(X_train, y_train_5)"
   ]
  },
  {
   "cell_type": "markdown",
   "metadata": {},
   "source": [
    "Now we will test the model using the test data. First we try to plot som numbers, that have been categorized correctly:"
   ]
  },
  {
   "cell_type": "code",
   "execution_count": 107,
   "metadata": {},
   "outputs": [
    {
     "data": {
      "text/plain": [
       "array([ True])"
      ]
     },
     "execution_count": 107,
     "metadata": {},
     "output_type": "execute_result"
    },
    {
     "data": {
      "image/png": "[encoded data removed]",
      "text/plain": [
       "<Figure size 432x288 with 1 Axes>"
      ]
     },
     "metadata": {
      "needs_background": "light"
     },
     "output_type": "display_data"
    }
   ],
   "source": [
    "MNIST_PlotDigit(X[0])\n",
    "sgd_clf.predict([X[0]])"
   ]
  },
  {
   "cell_type": "code",
   "execution_count": 108,
   "metadata": {},
   "outputs": [
    {
     "data": {
      "text/plain": [
       "array([ True])"
      ]
     },
     "execution_count": 108,
     "metadata": {},
     "output_type": "execute_result"
    },
    {
     "data": {
      "image/png": "[encoded data removed]",
      "text/plain": [
       "<Figure size 432x288 with 1 Axes>"
      ]
     },
     "metadata": {
      "needs_background": "light"
     },
     "output_type": "display_data"
    }
   ],
   "source": [
    "MNIST_PlotDigit(X[100])\n",
    "sgd_clf.predict([X[100]])"
   ]
  },
  {
   "cell_type": "markdown",
   "metadata": {},
   "source": [
    "Now we will look at som incorrectly categorized numbers:"
   ]
  },
  {
   "cell_type": "code",
   "execution_count": 109,
   "metadata": {},
   "outputs": [
    {
     "data": {
      "text/plain": [
       "array([False])"
      ]
     },
     "execution_count": 109,
     "metadata": {},
     "output_type": "execute_result"
    },
    {
     "data": {
      "image/png": "[encoded data removed]",
      "text/plain": [
       "<Figure size 432x288 with 1 Axes>"
      ]
     },
     "metadata": {
      "needs_background": "light"
     },
     "output_type": "display_data"
    }
   ],
   "source": [
    "MNIST_PlotDigit(X[2])\n",
    "sgd_clf.predict([X[2]])"
   ]
  },
  {
   "cell_type": "code",
   "execution_count": 110,
   "metadata": {},
   "outputs": [
    {
     "data": {
      "text/plain": [
       "array([False])"
      ]
     },
     "execution_count": 110,
     "metadata": {},
     "output_type": "execute_result"
    },
    {
     "data": {
      "image/png": "[encoded data removed]",
      "text/plain": [
       "<Figure size 432x288 with 1 Axes>"
      ]
     },
     "metadata": {
      "needs_background": "light"
     },
     "output_type": "display_data"
    }
   ],
   "source": [
    "MNIST_PlotDigit(X[3])\n",
    "sgd_clf.predict([X[3]])"
   ]
  },
  {
   "cell_type": "markdown",
   "metadata": {
    "tags": [
     "L02-dummy_classifier"
    ]
   },
   "source": [
    "### Qc) Implement a dummy binary classifier\n",
    "In this task we will create a Scikit-learn compatible estimator implemented via a Python class. This class will inheret from the classes sklearn.base.BaseEstimator and sklearn.base.ClassifierMixin.\n",
    "\n",
    "In our class we want to implement the functions `fit()` and `predict()`. \n",
    "Code for our DummyClassifier:"
   ]
  },
  {
   "cell_type": "code",
   "execution_count": 111,
   "metadata": {},
   "outputs": [],
   "source": [
    "from sklearn.base import BaseEstimator\n",
    "import numpy as np\n",
    "\n",
    "class DummyClassifier(BaseEstimator):\n",
    "    def fit(self, X, y=None):\n",
    "        return self\n",
    "    def predict(self, X):\n",
    "        return np.zeros((len(X), 1), dtype=bool)"
   ]
  },
  {
   "cell_type": "markdown",
   "metadata": {},
   "source": [
    "We will now instantiate a `DummyClassifier` object and call the `fit()` and `predict` on the object:"
   ]
  },
  {
   "cell_type": "code",
   "execution_count": 112,
   "metadata": {},
   "outputs": [
    {
     "data": {
      "text/plain": [
       "array([[False],\n",
       "       [False],\n",
       "       [False],\n",
       "       ...,\n",
       "       [False],\n",
       "       [False],\n",
       "       [False]])"
      ]
     },
     "execution_count": 112,
     "metadata": {},
     "output_type": "execute_result"
    }
   ],
   "source": [
    "dummyObj = DummyClassifier()\n",
    "dummyObj.fit(X_train, y_train_5)\n",
    "dummyObj.predict(X_test)"
   ]
  },
  {
   "cell_type": "markdown",
   "metadata": {},
   "source": [
    "Then the accuracy score is extracted by using the `sklearn.metrics.accuracy_score` function:"
   ]
  },
  {
   "cell_type": "code",
   "execution_count": 113,
   "metadata": {},
   "outputs": [
    {
     "data": {
      "text/plain": [
       "0.9108"
      ]
     },
     "execution_count": 113,
     "metadata": {},
     "output_type": "execute_result"
    }
   ],
   "source": [
    "from sklearn.metrics import accuracy_score\n",
    "accuracy_score(y_test_5, dummyObj.predict(X_test))"
   ]
  },
  {
   "cell_type": "markdown",
   "metadata": {},
   "source": [
    "We wil also find the cross value score for both the `DummyClassifier` and the `SGDClassifier` to compare:"
   ]
  },
  {
   "cell_type": "code",
   "execution_count": 114,
   "metadata": {},
   "outputs": [
    {
     "name": "stdout",
     "output_type": "stream",
     "text": [
      "cross_val_score for SGDClassifier: \n"
     ]
    },
    {
     "data": {
      "text/plain": [
       "array([0.9748, 0.9657, 0.9692])"
      ]
     },
     "execution_count": 114,
     "metadata": {},
     "output_type": "execute_result"
    }
   ],
   "source": [
    "from sklearn.model_selection import cross_val_score\n",
    "print(\"cross_val_score for SGDClassifier: \")\n",
    "cross_val_score(sgd_clf, X_train, y_train_5, cv=3, scoring=\"accuracy\")"
   ]
  },
  {
   "cell_type": "code",
   "execution_count": 115,
   "metadata": {},
   "outputs": [
    {
     "name": "stdout",
     "output_type": "stream",
     "text": [
      "cross_val_score for DummyClassifier: \n"
     ]
    },
    {
     "data": {
      "text/plain": [
       "array([0.91125, 0.90855, 0.90915])"
      ]
     },
     "execution_count": 115,
     "metadata": {},
     "output_type": "execute_result"
    }
   ],
   "source": [
    "print(\"cross_val_score for DummyClassifier: \")\n",
    "cross_val_score(dummyObj, X_train, y_train_5, cv=3, scoring=\"accuracy\")"
   ]
  },
  {
   "cell_type": "markdown",
   "metadata": {},
   "source": [
    "Here we see that the scores from the classifiers are very close to each other. If we calculate the average of the three scores in each, we see that the SGDClassifier has a higher score than the DummyClassifier. This means the SGDClassifier is better than the DummyClassifier.\n",
    "\n",
    "MERE UDDYBENDE?!?!?!?"
   ]
  },
  {
   "cell_type": "markdown",
   "metadata": {
    "tags": [
     "L02-dummy_classifier"
    ]
   },
   "source": [
    "### Qd) Conclusion\n",
    "In this task we learned how to load public data-sets and split the data-set into a training set and a testing set. With training the data-set we also learned to use the SGDClassifier and to implement one ourselves (DummyClassifier). By using this split data-set we learned how to train the model on the training sets and the try and test the model with the test set. Here we tested the data by predicting some data set from a certain label/number.\n",
    "\n",
    "We also looked at different types of scores and to compare the SGDClassifier and the DummyClassifier by these.\n",
    "\n",
    "MERE????"
   ]
  },
  {
   "cell_type": "code",
   "execution_count": 116,
   "metadata": {},
   "outputs": [
    {
     "name": "stdout",
     "output_type": "stream",
     "text": [
      "Once deleted, variables cannot be recovered. Proceed (y/[n])? y\n"
     ]
    }
   ],
   "source": [
    "%reset"
   ]
  },
  {
   "cell_type": "markdown",
   "metadata": {
    "tags": [
     "L02-performance_metrics"
    ]
   },
   "source": [
    "## L02 - performance_metrics\n",
    "\n",
    "MANGLER TEKST"
   ]
  },
  {
   "cell_type": "markdown",
   "metadata": {
    "tags": [
     "L02-performance_metrics"
    ]
   },
   "source": [
    "#### Qa Implement the Accuracy function and test it on the MNIST data.\n",
    "\n",
    "For a given model the score is not the only important measurement to consider when evaluating its performance. Another parameter is the accuracy. The Scikit-lean library contains a method to calculate the accuracy, but we will try creating a function to ourselves. \n",
    "\n",
    "The function will take a set of predictions and a set of true values of equal size.\n",
    "\n",
    "To test our function we will use the MNIST data loader. The function will be tested using both the dummy classifier and the Stochastic Gradient Descent classifier (SGDClassifier). This should show us why looking only at the score might give an incorrect assummption of the ability of ones model.\n",
    "\n",
    "\n",
    "\n",
    "\n",
    "We now follow the convention in Scikit-learn, that a score funtion takes the arguments `y_true` and then `y_pred`\n",
    "\n",
    "```\n",
    "    sklearn.metrics.accuracy_score(y_true, y_pred, ..)\n",
    "```\n",
    "\n",
    "Implement a general accuracy function `MyAccuracy(y_true, y_pred)`. Again, implement the function your self from scratch, i.e. do not use any helper functions from Scikit-learn (implementing via `sklearn.metrics.confusion_matrix` is also not allowed, othewise you will then learn nothing!)\n",
    "\n",
    "Reuse your MNIST data loader and test the `MyAccuracy` function  both on your dummy classifier and on the Stochastic Gradient Descent classifier (with setup parameters as in [HOML]).\n",
    "\n",
    "Compare your accuracy score with the acutal value from `sklearn.metrics.accuracy_score()`."
   ]
  },
  {
   "cell_type": "markdown",
   "metadata": {},
   "source": [
    "First we load the data into the variables X and y for later use"
   ]
  },
  {
   "cell_type": "code",
   "execution_count": 129,
   "metadata": {},
   "outputs": [],
   "source": [
    "#Reusing MNIST loader:\n",
    "from sklearn.datasets import fetch_openml\n",
    "from sklearn.base import BaseEstimator\n",
    "def MNIST_GetDataSet():\n",
    "    X, y = fetch_openml('mnist_784', return_X_y = True)\n",
    "    X = X / 255.\n",
    "    return (X,y)\n",
    "X, y = MNIST_GetDataSet()"
   ]
  },
  {
   "cell_type": "markdown",
   "metadata": {},
   "source": [
    "Here we define the accuracy function. In case the numerator or denominator is zero we either throw an error or return a 0 to avoid zer-division."
   ]
  },
  {
   "cell_type": "code",
   "execution_count": 130,
   "metadata": {},
   "outputs": [],
   "source": [
    "def MyAccuracy(y_true, y_pred):\n",
    "    assert len(y_true) != 0, \"Lenght of y_true is zero - zero-division error!\"\n",
    "    matched = 0\n",
    "    for y_p, y_t in zip(y_pred, y_true):\n",
    "        if y_t in y_p:\n",
    "            matched += 1\n",
    "    if matched == 0:\n",
    "        print(\"Found no mathces! Avoiding zero-division! returning 0\")\n",
    "        return 0\n",
    "    return (matched / len(y_true))"
   ]
  },
  {
   "cell_type": "markdown",
   "metadata": {},
   "source": [
    "Now we create the classifiers:"
   ]
  },
  {
   "cell_type": "code",
   "execution_count": 131,
   "metadata": {},
   "outputs": [],
   "source": [
    "#reused code from dummy\n",
    "import numpy as np\n",
    "class DummyClassifier(BaseEstimator):\n",
    "    def fit(self, X, y=None):\n",
    "        return self\n",
    "    def predict(self, X):\n",
    "        return np.zeros((len(X), 1), dtype=bool)\n",
    "\n",
    "X_train, X_test, y_train, y_test = X[:60000], X[60000:], y[:60000], y[60000:]\n",
    "y_test_5  = (y_test == '5')\n",
    "y_train_5 = (y_train == '5')\n",
    "\n",
    "#Creating SGD Classifier object\n",
    "from sklearn.linear_model import SGDClassifier \n",
    "sgd_clf = SGDClassifier(random_state=42)\n",
    "sgd_clf.fit(X_train, y_train_5)\n",
    "y_pred_sgd = sgd_clf.predict(X_test)\n",
    "\n",
    "#Creating dummy clasifier object\n",
    "dummyObj = DummyClassifier()    \n",
    "dummyObj.fit(X_train, y_train_5)\n",
    "y_pred = dummyObj.predict(X_test)"
   ]
  },
  {
   "cell_type": "code",
   "execution_count": 132,
   "metadata": {},
   "outputs": [
    {
     "name": "stdout",
     "output_type": "stream",
     "text": [
      "Using Dummy Classifier:\n",
      "\n",
      "MyAccuracy = 0.9108\n",
      "scikit-learn Accuracy = 0.9108\n"
     ]
    }
   ],
   "source": [
    "from sklearn.metrics import accuracy_score, recall_score, precision_score\n",
    "# TEST FUNCTION: example of a comperator, using Scikit-learn accuracy_score\n",
    "def TestAccuracy(y_true, y_pred):\n",
    "    a1 = accuracy_score(y_true, y_pred)\n",
    "    a0 = MyAccuracy(y_true, y_pred)\n",
    "    \n",
    "\n",
    "    print(f\"\\nMyAccuracy = {a0}\")\n",
    "    print(f\"scikit-learn Accuracy = {a1}\")\n",
    "\n",
    "    eps = 1E-9\n",
    "    assert np.fabs(a0 - a1) < eps, \"The accuracy score from MyAccuracy is different from sklearn.metrics.acurracy_score\"\n",
    "\n",
    "print(\"Using Dummy Classifier:\")\n",
    "TestAccuracy(y_test_5, y_pred)\n",
    "\n",
    "\n",
    "#TODO: FIX\n",
    "\n",
    "#print(\"Using SGDClassifier:\")\n",
    "#print(type(y_test_5))\n",
    "#print(type(y_pred_sgd))\n",
    "#TestAccuracy(y_test_5, y_pred_sgd)\n",
    "\n",
    "#Using MyAccuracy with SGDClassifers prediction causes error"
   ]
  },
  {
   "cell_type": "markdown",
   "metadata": {
    "tags": [
     "L02-performance_metrics"
    ]
   },
   "source": [
    "#### Qb Implement Precision, Recall and $F_1$-score and test it on the MNIST data for both the SGD and Dummy classifier models\n",
    "\n",
    "There are even more parameters to considere when evaluating a model. These parameters could be the Precicion, the Recall or the FnScore. We will implement the `MyPrecision`, `MyRecall` and `MyF1Score` functions, again taking MNIST as input, using the SGD and the Dummy classifiers and make some test vectors to compare to the functions found in Scikit-learn."
   ]
  },
  {
   "cell_type": "code",
   "execution_count": 133,
   "metadata": {},
   "outputs": [],
   "source": [
    "def MyPrecision(y_true, y_pred):\n",
    "    truePositive = 0.0\n",
    "    falsePositive = 0.0\n",
    "    for y_p,y_t in zip(y_pred, y_true):\n",
    "        if y_t == True & y_p == True:\n",
    "            truePositive += 1.0\n",
    "        if y_t == False & y_p == True:\n",
    "            matchedNegative += 1.0\n",
    "    if (truePositive + falsePositive) == 0.0:\n",
    "        return 0.0   \n",
    "    return (truePositive / (truePositive + falsePositive))   \n",
    "\n",
    "def MyRecall(y_true, y_pred):\n",
    "    truePositive = 0.0\n",
    "    falseNegative = 0.0\n",
    "    for y_p,y_t in zip(y_pred, y_true):\n",
    "        if y_t == True & y_p == True:\n",
    "            truePositive += 1.0\n",
    "        if y_t == True & y_p == False:\n",
    "            falseNegative += 1.0\n",
    "    if (truePositive + falseNegative) == 0.0:\n",
    "        return 0.0\n",
    "    return (truePositive / (truePositive + falseNegative))\n",
    "    \n",
    "def MyF1Score(y_true, y_pred):\n",
    "    p = MyPrecision(y_true, y_pred)\n",
    "    r = MyRecall(y_true, y_pred)\n",
    "    if (p + r) == 0.0:\n",
    "        return 0.0\n",
    "    return ((2*p*r) / (p + r))"
   ]
  },
  {
   "cell_type": "markdown",
   "metadata": {},
   "source": [
    "Now we will test the functions using the SGDClassifers prediction and the dummy clasifiers predictions and comparing them all to the Scikit libraries functions"
   ]
  },
  {
   "cell_type": "code",
   "execution_count": 135,
   "metadata": {},
   "outputs": [
    {
     "name": "stdout",
     "output_type": "stream",
     "text": [
      "Dummy classifier test results:\n",
      "MyPrecision \t\t = 0.0\n",
      "sklearn precision \t = 0.0\n",
      "MyRecall \t\t = 0.0\n",
      "sklearn Recall \t\t = 0.0\n",
      "MyF1Score \t\t = 0.0\n",
      "sklean F1 \t\t = 0.0\n",
      "\n",
      "SGD classifier test results:\n",
      "MyPrecision \t\t = 1.0\n",
      "sklearn precision \t = 0.9460188933873145\n",
      "MyRecall \t\t = 0.07175760057324189\n",
      "sklearn Recall \t\t = 0.7858744394618834\n",
      "MyF1Score \t\t = 0.13390639923591213\n",
      "sklean F1 \t\t = 0.8585425597060625\n"
     ]
    }
   ],
   "source": [
    "print(\"Dummy classifier test results:\")\n",
    "print(f\"MyPrecision \\t\\t = {MyPrecision(y_test_5, y_pred)}\")\n",
    "from sklearn.metrics import precision_score\n",
    "print(f\"sklearn precision \\t = {precision_score(y_test_5, y_pred)}\")\n",
    "\n",
    "print(f\"MyRecall \\t\\t = {MyRecall(y_test_5, y_pred)}\")\n",
    "from sklearn.metrics import recall_score\n",
    "print(f\"sklearn Recall \\t\\t = {recall_score(y_test_5, y_pred)}\")\n",
    "\n",
    "print(f\"MyF1Score \\t\\t = {MyF1Score(y_test_5, y_pred)}\")\n",
    "from sklearn.metrics import f1_score\n",
    "print(f\"sklean F1 \\t\\t = {f1_score(y_test_5, y_pred)}\")\n",
    "\n",
    "\n",
    "print(\"\\nSGD classifier test results:\")\n",
    "print(f\"MyPrecision \\t\\t = {MyPrecision(y_test_5, y_pred_sgd)}\")\n",
    "from sklearn.metrics import precision_score\n",
    "print(f\"sklearn precision \\t = {precision_score(y_test_5, y_pred_sgd)}\")\n",
    "\n",
    "print(f\"MyRecall \\t\\t = {MyRecall(y_test_5, y_pred_sgd)}\")\n",
    "from sklearn.metrics import recall_score\n",
    "print(f\"sklearn Recall \\t\\t = {recall_score(y_test_5, y_pred_sgd)}\")\n",
    "\n",
    "print(f\"MyF1Score \\t\\t = {MyF1Score(y_test_5, y_pred_sgd)}\")\n",
    "from sklearn.metrics import f1_score\n",
    "print(f\"sklean F1 \\t\\t = {f1_score(y_test_5, y_pred_sgd)}\")"
   ]
  },
  {
   "cell_type": "markdown",
   "metadata": {},
   "source": [
    "___Note til reviewers: Vores MyRecall og MyPrecision funktioner ender med et resulatat forskelligt fra Scikit learn, men vi kan ikke se fejlen. Hvis I har et bud, sættes der stærk pris på det___"
   ]
  },
  {
   "cell_type": "markdown",
   "metadata": {
    "tags": [
     "L02-performance_metrics"
    ]
   },
   "source": [
    "### Qc) The Confusion Matrix\n",
    "\n",
    "## Mangler tekst"
   ]
  },
  {
   "cell_type": "code",
   "execution_count": null,
   "metadata": {},
   "outputs": [],
   "source": [
    "from sklearn.metrics import confusion_matrix\n",
    "\n",
    "y_train_pred = dummyObj.predict(X_train)\n",
    "y_train_pred_sgd = sgd_clf.predict(X_train)\n",
    "\n",
    "print(\"confusion_matrix(y_train_5, y_train_pred):\")\n",
    "M_dummy = confusion_matrix(y_train_5, y_train_pred)\n",
    "print(\"M_dummy:\\n\", M_dummy)\n",
    "M_SGD = confusion_matrix(y_train_5, y_train_pred_sgd)\n",
    "print(\"\\nM_SGD:\\n\", M_SGD)\n",
    "\n",
    "print(\"\\nReverse parameters:\")\n",
    "M_dummy_reverse = confusion_matrix(y_train_pred, y_train_5)\n",
    "print(\"M_dummy_reverse:\\n\", M_dummy_reverse)\n",
    "M_SGD_reverse = confusion_matrix(y_train_pred_sgd, y_train_5)\n",
    "print(\"\\nM_SGD_reverse:\\n\", M_SGD_reverse)\n",
    "\n",
    "# FN and FP switches when using reverse parameters"
   ]
  },
  {
   "cell_type": "markdown",
   "metadata": {
    "tags": [
     "L02-performance_metrics"
    ]
   },
   "source": [
    "### Qd) A Confusion Matrix Heat-map\n",
    "\n",
    "## Mangler Tekst"
   ]
  },
  {
   "cell_type": "code",
   "execution_count": null,
   "metadata": {},
   "outputs": [],
   "source": [
    "import matplotlib\n",
    "import matplotlib.pyplot as plt\n",
    "plt.matshow(M_dummy, cmap=plt.cm.gray)\n",
    "plt.show()\n",
    "\n",
    "plt.matshow(M_SGD, cmap=plt.cm.gray)\n",
    "plt.show()"
   ]
  },
  {
   "cell_type": "markdown",
   "metadata": {},
   "source": [
    "Here we see there are less errors in M_SGD. This is apparent by the diagonal white/grey colors.\n",
    "The more white the colors of the boxes are, the more guesses are made on this assumption. \n",
    "So in the M_dummy the most guesses has been on true-positive, secondly on false-negative and zero guesses on false-positive and true-negative.\n",
    "And in the M_SGD the most guesses has been on true-positive, secondly on true-negative and some guesses on false-positive and false-negative."
   ]
  },
  {
   "cell_type": "markdown",
   "metadata": {
    "tags": [
     "L02-performance_metrics"
    ]
   },
   "source": [
    "### Qe Conclusion\n",
    "\n",
    "- understood nomenclature; TN, TP, FP, FN\n",
    "- learned how to calculate accruray, precision, recall, F1_score (also F_score)\n",
    "- how to make a confusion matrix\n",
    "- analysing confusion matrix; what happens if reverse parameters, error analysis (heat map)"
   ]
  },
  {
   "cell_type": "code",
   "execution_count": 119,
   "metadata": {},
   "outputs": [
    {
     "name": "stdout",
     "output_type": "stream",
     "text": [
      "Once deleted, variables cannot be recovered. Proceed (y/[n])? y\n"
     ]
    }
   ],
   "source": [
    "%reset"
   ]
  },
  {
   "cell_type": "markdown",
   "metadata": {
    "tags": [
     "L03-pipelines.ipynb"
    ]
   },
   "source": [
    "## L03 - pipelines\n",
    "For this exercise we will reuse the data from L01, intro.ipynb. The data has been saved as a 'pickle' file. To deserialize the data we use the python library \"pickle\""
   ]
  },
  {
   "cell_type": "code",
   "execution_count": 120,
   "metadata": {},
   "outputs": [
    {
     "name": "stdout",
     "output_type": "stream",
     "text": [
      "X.shape=(29, 1),  y.shape=(29,)\n",
      "OK\n"
     ]
    }
   ],
   "source": [
    "%matplotlib inline\n",
    "\n",
    "import numpy as np\n",
    "import matplotlib\n",
    "import matplotlib.pyplot as plt\n",
    "\n",
    "def LoadDataFromL01():\n",
    "    import pickle\n",
    "    filename = \"../Data/itmal_l01_data.pkl\"\n",
    "    with open(f\"{filename}\", \"rb\") as f:\n",
    "        (X, y) = pickle.load(f)\n",
    "        return X, y\n",
    "\n",
    "X, y = LoadDataFromL01()\n",
    "\n",
    "print(f\"X.shape={X.shape},  y.shape={y.shape}\")\n",
    "\n",
    "assert X.shape[0] == y.shape[0]\n",
    "assert X.ndim == 2\n",
    "assert y.ndim == 1  # did a y.ravel() before saving to picke file\n",
    "assert X.shape[0] == 29\n",
    "\n",
    "# re-create plot data (not stored in the Pickel file)\n",
    "m = np.linspace(0, 60000, 1000)\n",
    "M = np.empty([m.shape[0], 1])\n",
    "M[:, 0] = m\n",
    "\n",
    "print(\"OK\")"
   ]
  },
  {
   "cell_type": "markdown",
   "metadata": {},
   "source": [
    "#### Revisiting the problem with the MLP\n",
    "\n",
    "Using the MLP for the QECD data in Qd) from `intro.ipynb` produced a negative $R^2$, meaning that it was unable to fit the data, and the MPL model was actually _worse_ than the naive $\\hat y$ (mean value of y).\n",
    "\n",
    "In the codecell below we plot the data once again, before we try fixing the issue"
   ]
  },
  {
   "cell_type": "code",
   "execution_count": 121,
   "metadata": {},
   "outputs": [
    {
     "name": "stdout",
     "output_type": "stream",
     "text": [
      "The MLP mis-fits the data, seen in the bad R^2 score..\n",
      "lin.reg.score(X, y)=0.73\n",
      "MLP.score(X, y)=-5.73\n",
      "OK\n"
     ]
    },
    {
     "data": {
      "image/png": "[encoded data removed]",
      "text/plain": [
       "<Figure size 432x288 with 1 Axes>"
      ]
     },
     "metadata": {
      "needs_background": "light"
     },
     "output_type": "display_data"
    }
   ],
   "source": [
    "from sklearn.neural_network import MLPRegressor\n",
    "from sklearn.linear_model import LinearRegression\n",
    "from sklearn.model_selection import cross_val_predict\n",
    "from sklearn.metrics import r2_score\n",
    "\n",
    "def PlotModels(model1, model2, X, y, name_model1=\"lin.reg\", name_model2=\"MLP\"):\n",
    "\n",
    "    # NOTE: local function is such a nifty feature of Python!\n",
    "    def CalcPredAndScore(model1, model2, X, y):\n",
    "        y_pred_model1 = model1.predict(X)\n",
    "        y_pred_model2 = model2.predict(X)\n",
    "\n",
    "        # call r2\n",
    "        score_model1 = r2_score(y, y_pred_model1)\n",
    "        score_model2 = r2_score(y, y_pred_model2)\n",
    "\n",
    "        return y_pred_model1, y_pred_model2, score_model1, score_model2\n",
    "\n",
    "    y_pred_model1, y_pred_model2, score_model1, score_model2 = CalcPredAndScore(\n",
    "        model1, model2, X, y)\n",
    "\n",
    "    plt.plot(X, y_pred_model1, \"r.-\")\n",
    "    plt.plot(X, y_pred_model2, \"kx-\")\n",
    "    plt.scatter(X, y)\n",
    "    plt.xlabel(\"GDP per capita\")\n",
    "    plt.ylabel(\"Life satisfaction\")\n",
    "    plt.legend([name_model1, name_model2, \"X OECD data\"])\n",
    "\n",
    "    print(f\"{name_model1}.score(X, y)={score_model1:0.2f}\")\n",
    "    print(f\"{name_model2}.score(X, y)={score_model2:0.2f}\")\n",
    "\n",
    "\n",
    "# linear and MLP regressor and reduing the plots\n",
    "mlp = MLPRegressor(hidden_layer_sizes=(10, ),\n",
    "                   solver='adam',\n",
    "                   activation='relu',\n",
    "                   tol=1E-5,\n",
    "                   max_iter=100000,\n",
    "                   verbose=False)\n",
    "linreg = LinearRegression()\n",
    "\n",
    "mlp.fit(X, y)\n",
    "linreg.fit(X, y)\n",
    "\n",
    "print(\"The MLP mis-fits the data, seen in the bad R^2 score..\")\n",
    "PlotModels(linreg, mlp, X, y)\n",
    "\n",
    "print(\"OK\")"
   ]
  },
  {
   "cell_type": "markdown",
   "metadata": {
    "tags": [
     "L03-pipelines.ipynb"
    ]
   },
   "source": [
    "### Qa) Create a Min/max scaler for the MLP\n",
    "The reason this misfit occures is that a neural network, such as the MLP, is usually expecting values in the range `[0;1]` or sometimes in the range `[-1;1]`.\n",
    "\n",
    "In the previous fitting of the model we gave it values based off GDPs, meaning that the values would lie between ~9000 and ~55000. These are far from the values the neural network is expecting and thsi causes some trouble as is seen in the previous plot.\n",
    "\n",
    "To fix this, we will scale the values of the dataset to fit in the expected range of the MLP. In this case we will try fitting it to `[0;1]`"
   ]
  },
  {
   "cell_type": "code",
   "execution_count": 122,
   "metadata": {},
   "outputs": [
    {
     "name": "stdout",
     "output_type": "stream",
     "text": [
      "lin.reg.score(X, y)=-3.95\n",
      "MLP.score(X, y)=0.72\n"
     ]
    },
    {
     "data": {
      "image/png": "[encoded data removed]",
      "text/plain": [
       "<Figure size 432x288 with 1 Axes>"
      ]
     },
     "metadata": {
      "needs_background": "light"
     },
     "output_type": "display_data"
    }
   ],
   "source": [
    "# Re-scaling\n",
    "X_rescaled = (X - X.min()) / (X.max() - X.min())\n",
    "\n",
    "# Fitting model with new scaled dataset\n",
    "mlp.fit(X_rescaled, y)\n",
    "\n",
    "# Plotting model again\n",
    "PlotModels(linreg, mlp, X_rescaled, y )"
   ]
  },
  {
   "cell_type": "markdown",
   "metadata": {},
   "source": [
    "_Note that because the function __PlotModels__ is now using the scaled dataset of X, therefore score and plot of the linear regression model can be ignored_"
   ]
  },
  {
   "cell_type": "markdown",
   "metadata": {
    "tags": [
     "L03-pipelines.ipynb"
    ]
   },
   "source": [
    "### Qb) Scikit-learn Pipelines\n",
    "\n",
    "Now we will use the `sklearn.pipeline.Pipeline`. We will then give the Pipeline a scaler and a model. This will allow us to use the pipeline in the same way as we use a model, but the data will always be scaled correctly before being given to the model to train on.\n",
    "\n",
    "Instead of using our own scaling as we did previously we will this time use the `sklearn.preprocessing.MinMaxScaler`. This uses the same method for scaling.\n",
    "\n",
    "Now when using the __PlotModels__ function and giving it the raw X dataset, the pipe will make sure the dataset is scaled and the linear regression model (linreg) will still train on the raw data and when plottet, it can easily be compared to the MLP."
   ]
  },
  {
   "cell_type": "code",
   "execution_count": 123,
   "metadata": {},
   "outputs": [
    {
     "name": "stdout",
     "output_type": "stream",
     "text": [
      "lin.reg.score(X, y)=0.73\n",
      "MLP.score(X, y)=0.72\n"
     ]
    },
    {
     "data": {
      "image/png": "[encoded data removed]",
      "text/plain": [
       "<Figure size 432x288 with 1 Axes>"
      ]
     },
     "metadata": {
      "needs_background": "light"
     },
     "output_type": "display_data"
    }
   ],
   "source": [
    "#refitting linreg because somehow it doesn't work without\n",
    "linreg.fit(X, y)\n",
    "\n",
    "#Creating scaler using sklearn\n",
    "from sklearn.preprocessing import MinMaxScaler\n",
    "scaler = MinMaxScaler((0,1))\n",
    "\n",
    "#using pipeline\n",
    "from sklearn.pipeline import Pipeline\n",
    "pipe = Pipeline([('scaler', scaler), ('mlp', mlp)])\n",
    "\n",
    "pipe.fit(X, y)\n",
    "\n",
    "PlotModels(linreg, pipe, X, y)"
   ]
  },
  {
   "cell_type": "markdown",
   "metadata": {
    "tags": [
     "L03-pipelines.ipynb"
    ]
   },
   "source": [
    "### Qc) Outliers and the Min-max Scaler vs. the Standard Scaler\n",
    "\n",
    "Previously we used what is called a MinMax scalar. Now we will compare it to the Standard Scalar."
   ]
  },
  {
   "cell_type": "code",
   "execution_count": 124,
   "metadata": {},
   "outputs": [
    {
     "name": "stdout",
     "output_type": "stream",
     "text": [
      "MLP with MinMax scaler.score(X, y)=0.70\n",
      "MLP with standard scaler.score(X, y)=0.77\n"
     ]
    },
    {
     "data": {
      "image/png": "[encoded data removed]",
      "text/plain": [
       "<Figure size 432x288 with 1 Axes>"
      ]
     },
     "metadata": {
      "needs_background": "light"
     },
     "output_type": "display_data"
    }
   ],
   "source": [
    "#New mlp to avoid two different pipes fitting same model\n",
    "mlp2 = MLPRegressor(hidden_layer_sizes=(10, ),\n",
    "                   solver='adam',\n",
    "                   activation='relu',\n",
    "                   tol=1E-5,\n",
    "                   max_iter=100000,\n",
    "                   verbose=False)\n",
    "\n",
    "from sklearn.preprocessing import StandardScaler\n",
    "\n",
    "stdScalerPipe = Pipeline([('stdScalar', StandardScaler()), ('mlp', mlp2)])\n",
    "\n",
    "pipe.fit(X, y)\n",
    "stdScalerPipe.fit(X, y)\n",
    "\n",
    "\n",
    "PlotModels(pipe, stdScalerPipe, X, y, name_model1=\"MLP with MinMax scaler\", name_model2=\"MLP with standard scaler\")"
   ]
  },
  {
   "cell_type": "markdown",
   "metadata": {},
   "source": [
    "From the plot we notice that the Standart Scaler is affected much more by the datapoints that deviate more from the mean value, or \"outliers\". These outlieres can depending on what data is being worked on, and the amount of data, be more or less important to allow for higher influence on the training. In our case with the Life Satisfaction/GDP we consider the Standart Scaler a better option. This is because considering that some contries can have a low GDP and still a comparetivly high lifesat, is important to include in the models training.\n",
    "\n",
    "___Note til reviewers: Vi kunne godt tænke os at høre hvad i syntes om Standart Scaler vs MinMAX Scaler, da vi ikke er helt sikre i vore vurdering af den bedste.___"
   ]
  },
  {
   "cell_type": "markdown",
   "metadata": {
    "tags": [
     "L03-pipelines.ipynb"
    ]
   },
   "source": [
    "### Qd) Modify the MLP Hyperparameters\n",
    "\n",
    "In the MLP from scikit-learn there are lots of parameters to tweak, to get better training for the model. We will try modifying some of the parameters to see what changes and if the score improves.\n",
    "\n",
    "We will start by testing different amounts of neurons pr. layer.\n",
    "\n",
    "Second we will try using a different solver, than 'adam', which was previously used.\n",
    "\n",
    "Last we will try chaning the activation function from rectified linear unit function, to logistic sigmoid function.\n",
    "\n",
    "Each time a new model is created we will train and plot it multiple times to see how the score will vary, without having changed the parameters again. This is to make sure we notice if some scores fluctate a too much to be considered reliable.\n",
    "\n",
    "_Notice: Looking at the score and then tweaking the parameters in the model is not recommended as this can create a model that only gets good scores on this particular dataset. __Do not attempt this at home!___"
   ]
  },
  {
   "cell_type": "markdown",
   "metadata": {},
   "source": [
    "#### Testing different neuron amounts:"
   ]
  },
  {
   "cell_type": "code",
   "execution_count": 125,
   "metadata": {},
   "outputs": [
    {
     "name": "stdout",
     "output_type": "stream",
     "text": [
      "MLP with 2 neurons.score(X, y)=0.72\n",
      "MLP with 3 neurons.score(X, y)=0.76\n"
     ]
    },
    {
     "data": {
      "image/png": "[encoded data removed]",
      "text/plain": [
       "<Figure size 432x288 with 1 Axes>"
      ]
     },
     "metadata": {
      "needs_background": "light"
     },
     "output_type": "display_data"
    }
   ],
   "source": [
    "mlp_2_Neurons = MLPRegressor(hidden_layer_sizes=(2, ),\n",
    "                   solver='adam',\n",
    "                   activation='relu',\n",
    "                   tol=1E-5,\n",
    "                   max_iter=100000,\n",
    "                   verbose=False)\n",
    "\n",
    "mlp_3_Neurons = MLPRegressor(hidden_layer_sizes=(3, ),\n",
    "                   solver='adam',\n",
    "                   activation='relu',\n",
    "                   tol=1E-5,\n",
    "                   max_iter=100000,\n",
    "                   verbose=False)\n",
    "\n",
    "pipe2n = Pipeline([('stdScalar', StandardScaler()), ('mlp', mlp_2_Neurons)])\n",
    "pipe4n = Pipeline([('stdScalar', StandardScaler()), ('mlp', mlp_3_Neurons)])\n",
    "\n",
    "pipe2n.fit(X, y)\n",
    "pipe4n.fit(X, y)\n",
    "\n",
    "\n",
    "PlotModels(pipe2n, pipe4n, X, y, name_model1=\"MLP with 2 neurons\", name_model2=\"MLP with 3 neurons\")"
   ]
  },
  {
   "cell_type": "code",
   "execution_count": 126,
   "metadata": {},
   "outputs": [
    {
     "name": "stdout",
     "output_type": "stream",
     "text": [
      "MLP with 25 neurons.score(X, y)=0.80\n",
      "MLP with 1.000 neurons.score(X, y)=0.81\n"
     ]
    },
    {
     "data": {
      "image/png": "[encoded data removed]",
      "text/plain": [
       "<Figure size 432x288 with 1 Axes>"
      ]
     },
     "metadata": {
      "needs_background": "light"
     },
     "output_type": "display_data"
    }
   ],
   "source": [
    "mlp_25_Neurons = MLPRegressor(hidden_layer_sizes=(25, ),\n",
    "                   solver='adam',\n",
    "                   activation='relu',\n",
    "                   tol=1E-5,\n",
    "                   max_iter=100000,\n",
    "                   verbose=False)\n",
    "\n",
    "mlp_1k_Neurons = MLPRegressor(hidden_layer_sizes=(1000, ),\n",
    "                   solver='adam',\n",
    "                   activation='relu',\n",
    "                   tol=1E-5,\n",
    "                   max_iter=100000,\n",
    "                   verbose=False)\n",
    "\n",
    "pipe25n = Pipeline([('stdScalar', StandardScaler()), ('mlp', mlp_25_Neurons)])\n",
    "pipe1kn = Pipeline([('stdScalar', StandardScaler()), ('mlp', mlp_1k_Neurons)])\n",
    "\n",
    "pipe25n.fit(X, y)\n",
    "pipe1kn.fit(X, y)\n",
    "\n",
    "\n",
    "PlotModels(pipe25n, pipe1kn, X, y, name_model1=\"MLP with 25 neurons\", name_model2=\"MLP with 1.000 neurons\")"
   ]
  },
  {
   "cell_type": "markdown",
   "metadata": {},
   "source": [
    "#### Observations on testing different neurons amounts\n",
    "\n",
    "After having decreased and increased the amount of neurons used in our model we noticed some patterns occuring.\n",
    "\n",
    "- Going down to only __two__ neurons results in the score often being negative, and only sometimes scoring above __.70__\n",
    " - Increasing to __three__ neurons results in __.70 < scores <.74__, meaning that three neurons is the minimum required for this dataset\n",
    "\n",
    "- The neuron count has to be increased to __25__, before a noticable improvement is seen.\n",
    " - Although the improvement is still only a score that is consistently __0.80__\n",
    "\n",
    "- Increasing the neuron count to __1000__ does not improve the score beyond __.80__"
   ]
  },
  {
   "cell_type": "markdown",
   "metadata": {},
   "source": [
    "#### Testing different solver:"
   ]
  },
  {
   "cell_type": "code",
   "execution_count": 127,
   "metadata": {},
   "outputs": [
    {
     "name": "stdout",
     "output_type": "stream",
     "text": [
      "MLP with adam solver.score(X, y)=0.72\n",
      "MLP with sgd solver.score(X, y)=0.18\n"
     ]
    },
    {
     "data": {
      "image/png": "[encoded data removed]",
      "text/plain": [
       "<Figure size 432x288 with 1 Axes>"
      ]
     },
     "metadata": {
      "needs_background": "light"
     },
     "output_type": "display_data"
    }
   ],
   "source": [
    "#Testing mlp with 'sgd' solver\n",
    "mlp_sgd = MLPRegressor(hidden_layer_sizes=(25, ),\n",
    "                   solver='sgd',\n",
    "                   activation='relu',\n",
    "                   tol=1E-5,\n",
    "                   max_iter=100000,\n",
    "                   verbose=False)\n",
    "pipeSgd = Pipeline([('stdScalar', StandardScaler()), ('mlp', mlp_sgd)])\n",
    "\n",
    "pipeSgd.fit(X, y)\n",
    "\n",
    "PlotModels(pipe2n, pipeSgd, X, y, name_model1=\"MLP with adam solver\", name_model2=\"MLP with sgd solver\")"
   ]
  },
  {
   "cell_type": "markdown",
   "metadata": {},
   "source": [
    "#### Observations on testing different solver:\n",
    "\n",
    "The stochastic gradient descent came up with a score much worse than previously used solver (\"stochastic gradient-based optimizer\" proposed by Kingma or \"adam\")."
   ]
  },
  {
   "cell_type": "markdown",
   "metadata": {},
   "source": [
    "#### Testing with 'sigmoid' activaton function"
   ]
  },
  {
   "cell_type": "code",
   "execution_count": 128,
   "metadata": {},
   "outputs": [
    {
     "name": "stdout",
     "output_type": "stream",
     "text": [
      "MLP with relu activator.score(X, y)=0.73\n",
      "MLP with sigmoid activator.score(X, y)=0.74\n"
     ]
    },
    {
     "data": {
      "image/png": "[encoded data removed]",
      "text/plain": [
       "<Figure size 432x288 with 1 Axes>"
      ]
     },
     "metadata": {
      "needs_background": "light"
     },
     "output_type": "display_data"
    }
   ],
   "source": [
    "#Testing with 'sigmoid' activator\n",
    "mlp_log = MLPRegressor(hidden_layer_sizes=(25, ),\n",
    "                   solver='adam',\n",
    "                   activation='logistic',\n",
    "                   tol=1E-5,\n",
    "                   max_iter=100000,\n",
    "                   verbose=False)\n",
    "pipeLog = Pipeline([('stdScalar', StandardScaler()), ('mlp', mlp_log)])\n",
    "\n",
    "pipe2n.fit(X, y)\n",
    "pipeLog.fit(X, y)\n",
    "\n",
    "PlotModels(pipe2n, pipeLog, X, y, name_model1=\"MLP with relu activator\", name_model2=\"MLP with sigmoid activator\")\n"
   ]
  },
  {
   "cell_type": "markdown",
   "metadata": {},
   "source": [
    "#### Observations on testing with 'sigmoid' activation function\n",
    "- After training the model with 25 neurons generates a very consistent score of __.74__ each time it was trained\n",
    "\n",
    "- Increasing or decreasing the number of neurons destabilises this score and the fit becomes more and more random\n",
    "\n",
    "- Increasing the neuron count to past 1000 always results in a negative score "
   ]
  }
 ],
 "metadata": {
  "celltoolbar": "Tags",
  "kernelspec": {
   "display_name": "Python 3",
   "language": "python",
   "name": "python3"
  },
  "language_info": {
   "codemirror_mode": {
    "name": "ipython",
    "version": 3
   },
   "file_extension": ".py",
   "mimetype": "text/x-python",
   "name": "python",
   "nbconvert_exporter": "python",
   "pygments_lexer": "ipython3",
   "version": "3.8.5"
  }
 },
 "nbformat": 4,
 "nbformat_minor": 4
}
