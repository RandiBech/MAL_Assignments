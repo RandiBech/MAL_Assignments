{
 "cells": [
  {
   "cell_type": "markdown",
   "metadata": {},
   "source": [
    "# Journal - O1\n",
    "### ITMAL - Machine Learning\n",
    "#### Aarhus Universitet\n",
    "#### Dato: 28-02-2021\n",
    "### Lecture L01, L02 and L03\n",
    "#### Group 36: \n",
    "- Alexander Smith Mølholm 201806566 \n",
    "- Randi Mikkelsen Bech 201805690"
   ]
  },
  {
   "cell_type": "markdown",
   "metadata": {},
   "source": [
    "## Introuction\n",
    "To DO: Write intro for the whole journal"
   ]
  },
  {
   "cell_type": "markdown",
   "metadata": {},
   "source": [
    "## L01 - intro\n",
    "\n",
    "intro til hele denne opgave????\n",
    "\n",
    "### Setup\n",
    "In this setup task we make sure this notebook works well in both python 2 and 3. This is done by importing a few modules:\n",
    "\n",
    "INDSÆT MODULERNE!!!!\n",
    "\n",
    "Then we ensure MatplotLib plots figures inline and prepare the given function, save_fig, to save the figures:\n",
    "\n",
    "INDSÆT DET BESTEMTE KODE!!!\n",
    "\n",
    "The imports, plots and saving is shown together here:\n",
    "\n",
    "OBS: Vi er ikke færdig med denne opgave - vi skal lave save_fig, så den gemmer figurerne!!!"
   ]
  },
  {
   "cell_type": "code",
   "execution_count": null,
   "metadata": {},
   "outputs": [],
   "source": [
    "#TO DO: indsæt koden"
   ]
  },
  {
   "cell_type": "markdown",
   "metadata": {},
   "source": [
    "### Code example 1-1\n",
    "\n",
    "OBS: i tvivl om hvor meget af tekst og beskrivelse vi skal have med til introen inden opgave Qa..."
   ]
  },
  {
   "cell_type": "markdown",
   "metadata": {},
   "source": [
    "### Qa) The $\\theta$ parameters and the $R^2$ Score\n",
    "In this task we extract the $\\theta_0$ and $\\theta_1$ coefficients from the life-satisfaction figure from the linear regressin model above. This is done via the models python attributes:"
   ]
  },
  {
   "cell_type": "code",
   "execution_count": null,
   "metadata": {},
   "outputs": [],
   "source": [
    "print(\"theta_0 = \", model.intercept_)\n",
    "print(\"theta_1 = \", model.coef_[0])"
   ]
  },
  {
   "cell_type": "markdown",
   "metadata": {},
   "source": [
    "We also extract the score for the model using data (X,Y). The code for this is shown here within a print statement:"
   ]
  },
  {
   "cell_type": "code",
   "execution_count": null,
   "metadata": {},
   "outputs": [],
   "source": [
    "print(\"R^2 = \", model.score(X,y))"
   ]
  },
  {
   "cell_type": "markdown",
   "metadata": {},
   "source": [
    "INDSÆT: BESKRIVELSE AF R^2. ALEX, DU HAVDE EN GOD BESKRIVELSE"
   ]
  },
  {
   "cell_type": "markdown",
   "metadata": {},
   "source": [
    "### Qb) Using k-Nearest Neighbors\n",
    "In this task we are changing the regression model to a model using `sklearn.neighbors.KNeighborsRegressor`. Here we start with the k parameter being the value of 3.\n",
    "\n",
    "This is the data given in the task:"
   ]
  },
  {
   "cell_type": "code",
   "execution_count": 1,
   "metadata": {},
   "outputs": [
    {
     "ename": "NameError",
     "evalue": "name 'sample_data' is not defined",
     "output_type": "error",
     "traceback": [
      "\u001b[1;31m---------------------------------------------------------------------------\u001b[0m",
      "\u001b[1;31mNameError\u001b[0m                                 Traceback (most recent call last)",
      "\u001b[1;32m<ipython-input-1-d5dede4b5a05>\u001b[0m in \u001b[0;36m<module>\u001b[1;34m\u001b[0m\n\u001b[1;32m----> 1\u001b[1;33m \u001b[0msample_data\u001b[0m\u001b[1;33m\u001b[0m\u001b[1;33m\u001b[0m\u001b[0m\n\u001b[0m",
      "\u001b[1;31mNameError\u001b[0m: name 'sample_data' is not defined"
     ]
    }
   ],
   "source": [
    "sample_data"
   ]
  },
  {
   "cell_type": "code",
   "execution_count": null,
   "metadata": {},
   "outputs": [],
   "source": [
    "country_stats"
   ]
  },
  {
   "cell_type": "markdown",
   "metadata": {},
   "source": [
    "On this new model we run the fit and predict:"
   ]
  },
  {
   "cell_type": "code",
   "execution_count": null,
   "metadata": {},
   "outputs": [],
   "source": [
    "from sklearn import neighbors\n",
    "\n",
    "# Prepare the data\n",
    "X = np.c_[country_stats[\"GDP per capita\"]]\n",
    "y = np.c_[country_stats[\"Life satisfaction\"]]\n",
    "\n",
    "print(\"X.shape=\",X.shape)\n",
    "print(\"y.shape=\",y.shape)\n",
    "\n",
    "# Visualize the data\n",
    "country_stats.plot(kind='scatter', x=\"GDP per capita\", y='Life satisfaction')\n",
    "plt.show()\n",
    "\n",
    "# Here we select model and train it with the fit method:\n",
    "knn = sklearn.neighbors.KNeighborsRegressor(n_neighbors=3)\n",
    "knn.fit(X,y)\n",
    "\n",
    "# Here we predict:\n",
    "X_new = [[22587]]  \n",
    "y_pred = knn.predict(X_new)\n",
    "print(y_pred) \n",
    "\n",
    "#Here we find the score:\n",
    "print(knn.score(X,y))"
   ]
  },
  {
   "cell_type": "markdown",
   "metadata": {},
   "source": [
    "As seen in the output we get a predict of 5.76666667 and a score of 0.8525732853499179.\n",
    "\n",
    "When we look at the score and compare it with the score of the linear regression model, we see, that this new score is closer to the best psosible score of 1.0. So by looking at this, we see that the k-Nearest neighbor model with k=3 is closer to the truth, than the linear model. The reason for this is that this new model is looking at the three closest samples and finding the average of only these samples. Where the linear model is looking at all the samples. So is one sample is longer away from all the others, this one is taken into the model.\n",
    "\n",
    "IKKE HELT SIKKER PÅ ALT I KONKLUSIONEN ER HELT KORREKT\n",
    "\n",
    "MANGLER SAMMENLIGNING PÅ PREDICT RESULTAT FRA HVER MODEL + KAN DE OVERHOVEDET SAMMENLIGNES? + SVAR PÅ DETTE: \"Remember to put pointer/text from the Sckikit-learn documentation in the journal...(did you find the right kNN model etc.)\""
   ]
  },
  {
   "cell_type": "markdown",
   "metadata": {},
   "source": [
    "### Qc) Tuning Parameter for k-Nearest Neighbors and A Sanity Check\n"
   ]
  },
  {
   "cell_type": "code",
   "execution_count": null,
   "metadata": {},
   "outputs": [],
   "source": []
  }
 ],
 "metadata": {
  "kernelspec": {
   "display_name": "Python 3",
   "language": "python",
   "name": "python3"
  },
  "language_info": {
   "codemirror_mode": {
    "name": "ipython",
    "version": 3
   },
   "file_extension": ".py",
   "mimetype": "text/x-python",
   "name": "python",
   "nbconvert_exporter": "python",
   "pygments_lexer": "ipython3",
   "version": "3.8.5"
  }
 },
 "nbformat": 4,
 "nbformat_minor": 4
}
